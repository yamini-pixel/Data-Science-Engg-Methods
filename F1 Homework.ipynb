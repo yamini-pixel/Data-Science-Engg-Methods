{
 "cells": [
  {
   "cell_type": "markdown",
   "id": "44933de6",
   "metadata": {},
   "source": [
    "## F1 homework\n",
    "\n",
    "#### Question 1 (30 points) \n",
    "\n",
    "Max Verstappen rocks! But is he going to win it all again in 2023? The first two F1 races coming up in March: The Bahrain Grand Prix and the Saudi Arabian Grand Prix the weekend after. The 2022 driver standings are given here --> https://www.formula1.com/en/results.html/2022/drivers.html.  \n",
    "\n"
   ]
  },
  {
   "cell_type": "code",
   "execution_count": 7,
   "id": "6b1bce87",
   "metadata": {},
   "outputs": [],
   "source": [
    "class ProbDist(dict):\n",
    "    \"\"\"A Probability Distribution; an {outcome: probability} mapping.\"\"\"\n",
    "    def __init__(self, mapping=(), **kwargs): #constructor in python\n",
    "        self.update(mapping, **kwargs)\n",
    "        # Make probabilities sum to 1.0; assert no negative probabilities\n",
    "        total = sum(self.values())\n",
    "        for outcome in self:\n",
    "            self[outcome] = self[outcome] / total\n",
    "            assert self[outcome] >= 0"
   ]
  },
  {
   "cell_type": "markdown",
   "id": "4f474f3a",
   "metadata": {},
   "source": [
    ">Q1 **Given these standings, what is the Probability Distribution for each F1 driver to win the Bahrain Grand Prix?** \n",
    "\n",
    "Following is the prob distribution for each driver to win Bahrain GP and Saudi Arabia GP (named as PD because both ProbDists are the same):"
   ]
  },
  {
   "cell_type": "code",
   "execution_count": 8,
   "id": "e13277d7",
   "metadata": {},
   "outputs": [
    {
     "data": {
      "text/plain": [
       "{'MV': 0.19319148936170213,\n",
       " 'CL': 0.13106382978723405,\n",
       " 'SP': 0.12978723404255318,\n",
       " 'GR': 0.11702127659574468,\n",
       " 'CS': 0.1046808510638298,\n",
       " 'LH': 0.10212765957446808,\n",
       " 'LN': 0.05191489361702128,\n",
       " 'EO': 0.03914893617021276,\n",
       " 'FA': 0.03446808510638298,\n",
       " 'VB': 0.020851063829787235,\n",
       " 'DR': 0.01574468085106383,\n",
       " 'SV': 0.01574468085106383,\n",
       " 'KM': 0.010638297872340425,\n",
       " 'PG': 0.00978723404255319,\n",
       " 'LS': 0.007659574468085106,\n",
       " 'MS': 0.005106382978723404,\n",
       " 'YT': 0.005106382978723404,\n",
       " 'GZ': 0.002553191489361702,\n",
       " 'AA': 0.001702127659574468,\n",
       " 'NL': 0.000851063829787234,\n",
       " 'NV': 0.000851063829787234,\n",
       " 'NH': 0.0}"
      ]
     },
     "execution_count": 8,
     "metadata": {},
     "output_type": "execute_result"
    }
   ],
   "source": [
    "PD = ProbDist(\n",
    "    MV = 454,\n",
    "    CL = 308,\n",
    "    SP = 305,\n",
    "    GR = 275,\n",
    "    CS = 246,\n",
    "    LH = 240,\n",
    "    LN = 122,\n",
    "    EO = 92,\n",
    "    FA = 81,\n",
    "    VB = 49,\n",
    "    DR = 37,\n",
    "    SV = 37,\n",
    "    KM = 25,\n",
    "    PG = 23,\n",
    "    LS = 18,\n",
    "    MS = 12,\n",
    "    YT = 12,\n",
    "    GZ = 6,\n",
    "    AA = 4,\n",
    "    NL = 2,\n",
    "    NV = 2,\n",
    "    NH = 0    \n",
    ")\n",
    "PD"
   ]
  },
  {
   "cell_type": "code",
   "execution_count": 9,
   "id": "882c2c86",
   "metadata": {},
   "outputs": [],
   "source": [
    "def p(*args): \n",
    "    space = args[-1] # saving the last arg as the space \n",
    "    prior_events = args[1:-1] # saving all the args until the last arg as events\n",
    "    # branch on the type of the first argument\n",
    "    for event in prior_events[::-1]: #for reversing the order of the prior events\n",
    "        if is_predicate(event):\n",
    "            space = such_that(event, space)\n",
    "            # getting new sample space each time\n",
    "    event = args[0] #assigning first event as the event for which we have to find the probability(problem event) \n",
    "\n",
    "    if is_predicate(event):\n",
    "            event = such_that(event, space)\n",
    "            \n",
    "    if isinstance(space, ProbDist):\n",
    "        # if space is a dictionary of distinct probabilities, where each item does not count as the same amount\n",
    "        return sum(space[o] for o in space if o in event)\n",
    "        # Iterates on the keys of the dictionary space by default. Here space is a dictionary\n",
    "    else:\n",
    "        # space is not a dictionary but a collection, let's fall back to our original division\n",
    "        return Fraction(len(event & space), len(space))\n",
    "\n",
    "is_predicate = callable\n",
    "\n",
    "def such_that(predicate, space): \n",
    "    \"\"\"The outcomes in the sample pace for which the predicate is true.\n",
    "    If space is a set, return a subset {outcome,...} with outcomes where predicate(element) is true;\n",
    "    if space is a ProbDist, return a ProbDist {outcome: frequency,...} with outcomes where predicate(element) is true.\"\"\"\n",
    "    if isinstance(space, ProbDist):\n",
    "        return ProbDist({o:space[o] for o in space if predicate(o)})\n",
    "    else:\n",
    "        return {o for o in space if predicate(o)}"
   ]
  },
  {
   "cell_type": "code",
   "execution_count": 25,
   "id": "43ea6cd7",
   "metadata": {
    "scrolled": true
   },
   "outputs": [
    {
     "data": {
      "text/plain": [
       "{'MV-MV': 0.03732295156179264,\n",
       " 'MV-CL': 0.02532041647804435,\n",
       " 'MV-SP': 0.025073789044816643,\n",
       " 'MV-GR': 0.0226075147125396,\n",
       " 'MV-CS': 0.020223449524671786,\n",
       " 'MV-LH': 0.019730194658216373,\n",
       " 'MV-LN': 0.010029515617926657,\n",
       " 'MV-EO': 0.00756324128564961,\n",
       " 'MV-FA': 0.006658940697148027,\n",
       " 'MV-VB': 0.0040282480760525105,\n",
       " 'MV-DR': 0.0030417383431416913,\n",
       " 'MV-SV': 0.0030417383431416913,\n",
       " 'MV-KM': 0.0020552286102308724,\n",
       " 'MV-PG': 0.0018908103214124025,\n",
       " 'MV-LS': 0.001479764599366228,\n",
       " 'MV-MS': 0.0009865097329108186,\n",
       " 'MV-YT': 0.0009865097329108186,\n",
       " 'MV-GZ': 0.0004932548664554093,\n",
       " 'MV-AA': 0.0003288365776369396,\n",
       " 'MV-NL': 0.0001644182888184698,\n",
       " 'MV-NV': 0.0001644182888184698,\n",
       " 'MV-NH': 0.0,\n",
       " 'CL-MV': 0.02532041647804435,\n",
       " 'CL-CL': 0.017177727478497048,\n",
       " 'CL-SP': 0.017010411951109087,\n",
       " 'CL-GR': 0.015337256677229506,\n",
       " 'CL-CS': 0.013719873245812577,\n",
       " 'CL-LH': 0.013385242191036659,\n",
       " 'CL-LN': 0.006804164780443636,\n",
       " 'CL-EO': 0.005131009506564053,\n",
       " 'CL-FA': 0.004517519239474873,\n",
       " 'CL-VB': 0.002732820280669985,\n",
       " 'CL-DR': 0.002063558171118152,\n",
       " 'CL-SV': 0.002063558171118152,\n",
       " 'CL-KM': 0.0013942960615663188,\n",
       " 'CL-PG': 0.0012827523766410132,\n",
       " 'CL-LS': 0.0010038931643277494,\n",
       " 'CL-MS': 0.000669262109551833,\n",
       " 'CL-YT': 0.000669262109551833,\n",
       " 'CL-GZ': 0.0003346310547759165,\n",
       " 'CL-AA': 0.000223087369850611,\n",
       " 'CL-NL': 0.0001115436849253055,\n",
       " 'CL-NV': 0.0001115436849253055,\n",
       " 'CL-NH': 0.0,\n",
       " 'SP-MV': 0.025073789044816643,\n",
       " 'SP-CL': 0.017010411951109087,\n",
       " 'SP-SP': 0.016844726120416466,\n",
       " 'SP-GR': 0.015187867813490257,\n",
       " 'SP-CS': 0.013586238116794921,\n",
       " 'SP-LH': 0.013254866455409678,\n",
       " 'SP-LN': 0.006737890448166587,\n",
       " 'SP-EO': 0.005081032141240376,\n",
       " 'SP-FA': 0.004473517428700767,\n",
       " 'SP-VB': 0.0027062019013128096,\n",
       " 'SP-DR': 0.0020434585785423258,\n",
       " 'SP-SV': 0.0020434585785423258,\n",
       " 'SP-KM': 0.0013807152557718414,\n",
       " 'SP-PG': 0.001270258035310094,\n",
       " 'SP-LS': 0.0009941149841557258,\n",
       " 'SP-MS': 0.0006627433227704839,\n",
       " 'SP-YT': 0.0006627433227704839,\n",
       " 'SP-GZ': 0.00033137166138524194,\n",
       " 'SP-AA': 0.00022091444092349463,\n",
       " 'SP-NL': 0.00011045722046174732,\n",
       " 'SP-NV': 0.00011045722046174732,\n",
       " 'SP-NH': 0.0,\n",
       " 'GR-MV': 0.0226075147125396,\n",
       " 'GR-CL': 0.015337256677229506,\n",
       " 'GR-SP': 0.015187867813490257,\n",
       " 'GR-GR': 0.013693979176097774,\n",
       " 'GR-CS': 0.012249886826618372,\n",
       " 'GR-LH': 0.011951109099139873,\n",
       " 'GR-LN': 0.006075147125396103,\n",
       " 'GR-EO': 0.004581258488003618,\n",
       " 'GR-FA': 0.004033499320959708,\n",
       " 'GR-VB': 0.002440018107741058,\n",
       " 'GR-DR': 0.001842462652784064,\n",
       " 'GR-SV': 0.001842462652784064,\n",
       " 'GR-KM': 0.0012449071978270702,\n",
       " 'GR-PG': 0.0011453146220009045,\n",
       " 'GR-LS': 0.0008963331824354905,\n",
       " 'GR-MS': 0.0005975554549569937,\n",
       " 'GR-YT': 0.0005975554549569937,\n",
       " 'GR-GZ': 0.00029877772747849684,\n",
       " 'GR-AA': 0.00019918515165233123,\n",
       " 'GR-NL': 9.959257582616562e-05,\n",
       " 'GR-NV': 9.959257582616562e-05,\n",
       " 'GR-NH': 0.0,\n",
       " 'CS-MV': 0.020223449524671786,\n",
       " 'CS-CL': 0.013719873245812577,\n",
       " 'CS-SP': 0.013586238116794921,\n",
       " 'CS-GR': 0.012249886826618372,\n",
       " 'CS-CS': 0.010958080579447709,\n",
       " 'CS-LH': 0.010690810321412397,\n",
       " 'CS-LN': 0.005434495246717969,\n",
       " 'CS-EO': 0.004098143956541418,\n",
       " 'CS-FA': 0.0036081484834766843,\n",
       " 'CS-VB': 0.0021827071072883647,\n",
       " 'CS-DR': 0.0016481665912177446,\n",
       " 'CS-SV': 0.0016481665912177446,\n",
       " 'CS-KM': 0.0011136260751471248,\n",
       " 'CS-PG': 0.0010245359891353546,\n",
       " 'CS-LS': 0.0008018107741059298,\n",
       " 'CS-MS': 0.0005345405160706198,\n",
       " 'CS-YT': 0.0005345405160706198,\n",
       " 'CS-GZ': 0.0002672702580353099,\n",
       " 'CS-AA': 0.00017818017202353998,\n",
       " 'CS-NL': 8.909008601176999e-05,\n",
       " 'CS-NV': 8.909008601176999e-05,\n",
       " 'CS-NH': 0.0,\n",
       " 'LH-MV': 0.019730194658216373,\n",
       " 'LH-CL': 0.013385242191036659,\n",
       " 'LH-SP': 0.013254866455409678,\n",
       " 'LH-GR': 0.011951109099139873,\n",
       " 'LH-CS': 0.010690810321412397,\n",
       " 'LH-LH': 0.010430058850158434,\n",
       " 'LH-LN': 0.005301946582163872,\n",
       " 'LH-EO': 0.0039981892258940666,\n",
       " 'LH-FA': 0.0035201448619284724,\n",
       " 'LH-VB': 0.002129470348574014,\n",
       " 'LH-DR': 0.0016079674060660923,\n",
       " 'LH-SV': 0.0016079674060660923,\n",
       " 'LH-KM': 0.0010864644635581705,\n",
       " 'LH-PG': 0.0009995473064735166,\n",
       " 'LH-LS': 0.0007822544137618826,\n",
       " 'LH-MS': 0.0005215029425079217,\n",
       " 'LH-YT': 0.0005215029425079217,\n",
       " 'LH-GZ': 0.00026075147125396086,\n",
       " 'LH-AA': 0.00017383431416930726,\n",
       " 'LH-NL': 8.691715708465363e-05,\n",
       " 'LH-NV': 8.691715708465363e-05,\n",
       " 'LH-NH': 0.0,\n",
       " 'LN-MV': 0.010029515617926657,\n",
       " 'LN-CL': 0.006804164780443636,\n",
       " 'LN-SP': 0.006737890448166587,\n",
       " 'LN-GR': 0.006075147125396103,\n",
       " 'LN-CS': 0.005434495246717969,\n",
       " 'LN-LH': 0.005301946582163872,\n",
       " 'LN-LN': 0.0026951561792666347,\n",
       " 'LN-EO': 0.002032412856496151,\n",
       " 'LN-FA': 0.001789406971480307,\n",
       " 'LN-VB': 0.0010824807605251238,\n",
       " 'LN-DR': 0.0008173834314169303,\n",
       " 'LN-SV': 0.0008173834314169303,\n",
       " 'LN-KM': 0.0005522861023087367,\n",
       " 'LN-PG': 0.0005081032141240377,\n",
       " 'LN-LS': 0.0003976459936622903,\n",
       " 'LN-MS': 0.0002650973291081936,\n",
       " 'LN-YT': 0.0002650973291081936,\n",
       " 'LN-GZ': 0.0001325486645540968,\n",
       " 'LN-AA': 8.836577636939786e-05,\n",
       " 'LN-NL': 4.418288818469893e-05,\n",
       " 'LN-NV': 4.418288818469893e-05,\n",
       " 'LN-NH': 0.0,\n",
       " 'EO-MV': 0.00756324128564961,\n",
       " 'EO-CL': 0.005131009506564053,\n",
       " 'EO-SP': 0.005081032141240376,\n",
       " 'EO-GR': 0.004581258488003618,\n",
       " 'EO-CS': 0.004098143956541418,\n",
       " 'EO-LH': 0.0039981892258940666,\n",
       " 'EO-LN': 0.002032412856496151,\n",
       " 'EO-EO': 0.001532639203259392,\n",
       " 'EO-FA': 0.0013493888637392476,\n",
       " 'EO-VB': 0.000816296966953372,\n",
       " 'EO-DR': 0.0006163875056586686,\n",
       " 'EO-SV': 0.0006163875056586686,\n",
       " 'EO-KM': 0.00041647804436396527,\n",
       " 'EO-PG': 0.000383159800814848,\n",
       " 'EO-LS': 0.00029986419194205497,\n",
       " 'EO-MS': 0.00019990946129470332,\n",
       " 'EO-YT': 0.00019990946129470332,\n",
       " 'EO-GZ': 9.995473064735166e-05,\n",
       " 'EO-AA': 6.663648709823445e-05,\n",
       " 'EO-NL': 3.331824354911722e-05,\n",
       " 'EO-NV': 3.331824354911722e-05,\n",
       " 'EO-NH': 0.0,\n",
       " 'FA-MV': 0.006658940697148027,\n",
       " 'FA-CL': 0.004517519239474873,\n",
       " 'FA-SP': 0.004473517428700767,\n",
       " 'FA-GR': 0.004033499320959708,\n",
       " 'FA-CS': 0.0036081484834766843,\n",
       " 'FA-LH': 0.0035201448619284724,\n",
       " 'FA-LN': 0.001789406971480307,\n",
       " 'FA-EO': 0.0013493888637392476,\n",
       " 'FA-FA': 0.0011880488909008595,\n",
       " 'FA-VB': 0.0007186962426437299,\n",
       " 'FA-DR': 0.0005426889995473062,\n",
       " 'FA-SV': 0.0005426889995473062,\n",
       " 'FA-KM': 0.0003666817564508825,\n",
       " 'FA-PG': 0.0003373472159348119,\n",
       " 'FA-LS': 0.0002640108646446354,\n",
       " 'FA-MS': 0.0001760072430964236,\n",
       " 'FA-YT': 0.0001760072430964236,\n",
       " 'FA-GZ': 8.80036215482118e-05,\n",
       " 'FA-AA': 5.8669081032141206e-05,\n",
       " 'FA-NL': 2.9334540516070603e-05,\n",
       " 'FA-NV': 2.9334540516070603e-05,\n",
       " 'FA-NH': 0.0,\n",
       " 'VB-MV': 0.0040282480760525105,\n",
       " 'VB-CL': 0.002732820280669985,\n",
       " 'VB-SP': 0.0027062019013128096,\n",
       " 'VB-GR': 0.002440018107741058,\n",
       " 'VB-CS': 0.0021827071072883647,\n",
       " 'VB-LH': 0.002129470348574014,\n",
       " 'VB-LN': 0.0010824807605251238,\n",
       " 'VB-EO': 0.000816296966953372,\n",
       " 'VB-FA': 0.0007186962426437299,\n",
       " 'VB-VB': 0.0004347668628338612,\n",
       " 'VB-DR': 0.00032829334540516054,\n",
       " 'VB-SV': 0.00032829334540516054,\n",
       " 'VB-KM': 0.0002218198279764598,\n",
       " 'VB-PG': 0.000204074241738343,\n",
       " 'VB-LS': 0.00015971027614305105,\n",
       " 'VB-MS': 0.0001064735174287007,\n",
       " 'VB-YT': 0.0001064735174287007,\n",
       " 'VB-GZ': 5.323675871435035e-05,\n",
       " 'VB-AA': 3.549117247623357e-05,\n",
       " 'VB-NL': 1.7745586238116784e-05,\n",
       " 'VB-NV': 1.7745586238116784e-05,\n",
       " 'VB-NH': 0.0,\n",
       " 'DR-MV': 0.0030417383431416913,\n",
       " 'DR-CL': 0.002063558171118152,\n",
       " 'DR-SP': 0.0020434585785423258,\n",
       " 'DR-GR': 0.001842462652784064,\n",
       " 'DR-CS': 0.0016481665912177446,\n",
       " 'DR-LH': 0.0016079674060660923,\n",
       " 'DR-LN': 0.0008173834314169303,\n",
       " 'DR-EO': 0.0006163875056586686,\n",
       " 'DR-FA': 0.0005426889995473062,\n",
       " 'DR-VB': 0.00032829334540516054,\n",
       " 'DR-DR': 0.00024789497510185594,\n",
       " 'DR-SV': 0.00024789497510185594,\n",
       " 'DR-KM': 0.00016749660479855127,\n",
       " 'DR-PG': 0.00015409687641466715,\n",
       " 'DR-LS': 0.00012059755545495692,\n",
       " 'DR-MS': 8.03983703033046e-05,\n",
       " 'DR-YT': 8.03983703033046e-05,\n",
       " 'DR-GZ': 4.01991851516523e-05,\n",
       " 'DR-AA': 2.6799456767768207e-05,\n",
       " 'DR-NL': 1.3399728383884103e-05,\n",
       " 'DR-NV': 1.3399728383884103e-05,\n",
       " 'DR-NH': 0.0,\n",
       " 'SV-MV': 0.0030417383431416913,\n",
       " 'SV-CL': 0.002063558171118152,\n",
       " 'SV-SP': 0.0020434585785423258,\n",
       " 'SV-GR': 0.001842462652784064,\n",
       " 'SV-CS': 0.0016481665912177446,\n",
       " 'SV-LH': 0.0016079674060660923,\n",
       " 'SV-LN': 0.0008173834314169303,\n",
       " 'SV-EO': 0.0006163875056586686,\n",
       " 'SV-FA': 0.0005426889995473062,\n",
       " 'SV-VB': 0.00032829334540516054,\n",
       " 'SV-DR': 0.00024789497510185594,\n",
       " 'SV-SV': 0.00024789497510185594,\n",
       " 'SV-KM': 0.00016749660479855127,\n",
       " 'SV-PG': 0.00015409687641466715,\n",
       " 'SV-LS': 0.00012059755545495692,\n",
       " 'SV-MS': 8.03983703033046e-05,\n",
       " 'SV-YT': 8.03983703033046e-05,\n",
       " 'SV-GZ': 4.01991851516523e-05,\n",
       " 'SV-AA': 2.6799456767768207e-05,\n",
       " 'SV-NL': 1.3399728383884103e-05,\n",
       " 'SV-NV': 1.3399728383884103e-05,\n",
       " 'SV-NH': 0.0,\n",
       " 'KM-MV': 0.0020552286102308724,\n",
       " 'KM-CL': 0.0013942960615663188,\n",
       " 'KM-SP': 0.0013807152557718414,\n",
       " 'KM-GR': 0.0012449071978270702,\n",
       " 'KM-CS': 0.0011136260751471248,\n",
       " 'KM-LH': 0.0010864644635581705,\n",
       " 'KM-LN': 0.0005522861023087367,\n",
       " 'KM-EO': 0.00041647804436396527,\n",
       " 'KM-FA': 0.0003666817564508825,\n",
       " 'KM-VB': 0.0002218198279764598,\n",
       " 'KM-DR': 0.00016749660479855127,\n",
       " 'KM-SV': 0.00016749660479855127,\n",
       " 'KM-KM': 0.00011317338162064274,\n",
       " 'KM-PG': 0.00010411951109099132,\n",
       " 'KM-LS': 8.148483476686278e-05,\n",
       " 'KM-MS': 5.4323223177908515e-05,\n",
       " 'KM-YT': 5.4323223177908515e-05,\n",
       " 'KM-GZ': 2.7161611588954257e-05,\n",
       " 'KM-AA': 1.8107741059302838e-05,\n",
       " 'KM-NL': 9.053870529651419e-06,\n",
       " 'KM-NV': 9.053870529651419e-06,\n",
       " 'KM-NH': 0.0,\n",
       " 'PG-MV': 0.0018908103214124025,\n",
       " 'PG-CL': 0.0012827523766410132,\n",
       " 'PG-SP': 0.001270258035310094,\n",
       " 'PG-GR': 0.0011453146220009045,\n",
       " 'PG-CS': 0.0010245359891353546,\n",
       " 'PG-LH': 0.0009995473064735166,\n",
       " 'PG-LN': 0.0005081032141240377,\n",
       " 'PG-EO': 0.000383159800814848,\n",
       " 'PG-FA': 0.0003373472159348119,\n",
       " 'PG-VB': 0.000204074241738343,\n",
       " 'PG-DR': 0.00015409687641466715,\n",
       " 'PG-SV': 0.00015409687641466715,\n",
       " 'PG-KM': 0.00010411951109099132,\n",
       " 'PG-PG': 9.5789950203712e-05,\n",
       " 'PG-LS': 7.496604798551374e-05,\n",
       " 'PG-MS': 4.997736532367583e-05,\n",
       " 'PG-YT': 4.997736532367583e-05,\n",
       " 'PG-GZ': 2.4988682661837915e-05,\n",
       " 'PG-AA': 1.665912177455861e-05,\n",
       " 'PG-NL': 8.329560887279306e-06,\n",
       " 'PG-NV': 8.329560887279306e-06,\n",
       " 'PG-NH': 0.0,\n",
       " 'LS-MV': 0.001479764599366228,\n",
       " 'LS-CL': 0.0010038931643277494,\n",
       " 'LS-SP': 0.0009941149841557258,\n",
       " 'LS-GR': 0.0008963331824354905,\n",
       " 'LS-CS': 0.0008018107741059298,\n",
       " 'LS-LH': 0.0007822544137618826,\n",
       " 'LS-LN': 0.0003976459936622903,\n",
       " 'LS-EO': 0.00029986419194205497,\n",
       " 'LS-FA': 0.0002640108646446354,\n",
       " 'LS-VB': 0.00015971027614305105,\n",
       " 'LS-DR': 0.00012059755545495692,\n",
       " 'LS-SV': 0.00012059755545495692,\n",
       " 'LS-KM': 8.148483476686278e-05,\n",
       " 'LS-PG': 7.496604798551374e-05,\n",
       " 'LS-LS': 5.866908103214119e-05,\n",
       " 'LS-MS': 3.911272068809413e-05,\n",
       " 'LS-YT': 3.911272068809413e-05,\n",
       " 'LS-GZ': 1.9556360344047065e-05,\n",
       " 'LS-AA': 1.3037573562698044e-05,\n",
       " 'LS-NL': 6.518786781349022e-06,\n",
       " 'LS-NV': 6.518786781349022e-06,\n",
       " 'LS-NH': 0.0,\n",
       " 'MS-MV': 0.0009865097329108186,\n",
       " 'MS-CL': 0.000669262109551833,\n",
       " 'MS-SP': 0.0006627433227704839,\n",
       " 'MS-GR': 0.0005975554549569937,\n",
       " 'MS-CS': 0.0005345405160706198,\n",
       " 'MS-LH': 0.0005215029425079217,\n",
       " 'MS-LN': 0.0002650973291081936,\n",
       " 'MS-EO': 0.00019990946129470332,\n",
       " 'MS-FA': 0.0001760072430964236,\n",
       " 'MS-VB': 0.0001064735174287007,\n",
       " 'MS-DR': 8.03983703033046e-05,\n",
       " 'MS-SV': 8.03983703033046e-05,\n",
       " 'MS-KM': 5.4323223177908515e-05,\n",
       " 'MS-PG': 4.997736532367583e-05,\n",
       " 'MS-LS': 3.911272068809413e-05,\n",
       " 'MS-MS': 2.6075147125396088e-05,\n",
       " 'MS-YT': 2.6075147125396088e-05,\n",
       " 'MS-GZ': 1.3037573562698044e-05,\n",
       " 'MS-AA': 8.691715708465363e-06,\n",
       " 'MS-NL': 4.345857854232682e-06,\n",
       " 'MS-NV': 4.345857854232682e-06,\n",
       " 'MS-NH': 0.0,\n",
       " 'YT-MV': 0.0009865097329108186,\n",
       " 'YT-CL': 0.000669262109551833,\n",
       " 'YT-SP': 0.0006627433227704839,\n",
       " 'YT-GR': 0.0005975554549569937,\n",
       " 'YT-CS': 0.0005345405160706198,\n",
       " 'YT-LH': 0.0005215029425079217,\n",
       " 'YT-LN': 0.0002650973291081936,\n",
       " 'YT-EO': 0.00019990946129470332,\n",
       " 'YT-FA': 0.0001760072430964236,\n",
       " 'YT-VB': 0.0001064735174287007,\n",
       " 'YT-DR': 8.03983703033046e-05,\n",
       " 'YT-SV': 8.03983703033046e-05,\n",
       " 'YT-KM': 5.4323223177908515e-05,\n",
       " 'YT-PG': 4.997736532367583e-05,\n",
       " 'YT-LS': 3.911272068809413e-05,\n",
       " 'YT-MS': 2.6075147125396088e-05,\n",
       " 'YT-YT': 2.6075147125396088e-05,\n",
       " 'YT-GZ': 1.3037573562698044e-05,\n",
       " 'YT-AA': 8.691715708465363e-06,\n",
       " 'YT-NL': 4.345857854232682e-06,\n",
       " 'YT-NV': 4.345857854232682e-06,\n",
       " 'YT-NH': 0.0,\n",
       " 'GZ-MV': 0.0004932548664554093,\n",
       " 'GZ-CL': 0.0003346310547759165,\n",
       " 'GZ-SP': 0.00033137166138524194,\n",
       " 'GZ-GR': 0.00029877772747849684,\n",
       " 'GZ-CS': 0.0002672702580353099,\n",
       " 'GZ-LH': 0.00026075147125396086,\n",
       " 'GZ-LN': 0.0001325486645540968,\n",
       " 'GZ-EO': 9.995473064735166e-05,\n",
       " 'GZ-FA': 8.80036215482118e-05,\n",
       " 'GZ-VB': 5.323675871435035e-05,\n",
       " 'GZ-DR': 4.01991851516523e-05,\n",
       " 'GZ-SV': 4.01991851516523e-05,\n",
       " 'GZ-KM': 2.7161611588954257e-05,\n",
       " 'GZ-PG': 2.4988682661837915e-05,\n",
       " 'GZ-LS': 1.9556360344047065e-05,\n",
       " 'GZ-MS': 1.3037573562698044e-05,\n",
       " 'GZ-YT': 1.3037573562698044e-05,\n",
       " 'GZ-GZ': 6.518786781349022e-06,\n",
       " 'GZ-AA': 4.345857854232682e-06,\n",
       " 'GZ-NL': 2.172928927116341e-06,\n",
       " 'GZ-NV': 2.172928927116341e-06,\n",
       " 'GZ-NH': 0.0,\n",
       " 'AA-MV': 0.0003288365776369396,\n",
       " 'AA-CL': 0.000223087369850611,\n",
       " 'AA-SP': 0.00022091444092349463,\n",
       " 'AA-GR': 0.00019918515165233123,\n",
       " 'AA-CS': 0.00017818017202353998,\n",
       " 'AA-LH': 0.00017383431416930726,\n",
       " 'AA-LN': 8.836577636939786e-05,\n",
       " 'AA-EO': 6.663648709823445e-05,\n",
       " 'AA-FA': 5.8669081032141206e-05,\n",
       " 'AA-VB': 3.549117247623357e-05,\n",
       " 'AA-DR': 2.6799456767768207e-05,\n",
       " 'AA-SV': 2.6799456767768207e-05,\n",
       " 'AA-KM': 1.8107741059302838e-05,\n",
       " 'AA-PG': 1.665912177455861e-05,\n",
       " 'AA-LS': 1.3037573562698044e-05,\n",
       " 'AA-MS': 8.691715708465363e-06,\n",
       " 'AA-YT': 8.691715708465363e-06,\n",
       " 'AA-GZ': 4.345857854232682e-06,\n",
       " 'AA-AA': 2.8972385694884543e-06,\n",
       " 'AA-NL': 1.4486192847442271e-06,\n",
       " 'AA-NV': 1.4486192847442271e-06,\n",
       " 'AA-NH': 0.0,\n",
       " 'NL-MV': 0.0001644182888184698,\n",
       " 'NL-CL': 0.0001115436849253055,\n",
       " 'NL-SP': 0.00011045722046174732,\n",
       " 'NL-GR': 9.959257582616562e-05,\n",
       " 'NL-CS': 8.909008601176999e-05,\n",
       " 'NL-LH': 8.691715708465363e-05,\n",
       " 'NL-LN': 4.418288818469893e-05,\n",
       " 'NL-EO': 3.331824354911722e-05,\n",
       " 'NL-FA': 2.9334540516070603e-05,\n",
       " 'NL-VB': 1.7745586238116784e-05,\n",
       " 'NL-DR': 1.3399728383884103e-05,\n",
       " 'NL-SV': 1.3399728383884103e-05,\n",
       " 'NL-KM': 9.053870529651419e-06,\n",
       " 'NL-PG': 8.329560887279306e-06,\n",
       " 'NL-LS': 6.518786781349022e-06,\n",
       " 'NL-MS': 4.345857854232682e-06,\n",
       " 'NL-YT': 4.345857854232682e-06,\n",
       " 'NL-GZ': 2.172928927116341e-06,\n",
       " 'NL-AA': 1.4486192847442271e-06,\n",
       " 'NL-NL': 7.243096423721136e-07,\n",
       " 'NL-NV': 7.243096423721136e-07,\n",
       " 'NL-NH': 0.0,\n",
       " 'NV-MV': 0.0001644182888184698,\n",
       " 'NV-CL': 0.0001115436849253055,\n",
       " 'NV-SP': 0.00011045722046174732,\n",
       " 'NV-GR': 9.959257582616562e-05,\n",
       " 'NV-CS': 8.909008601176999e-05,\n",
       " 'NV-LH': 8.691715708465363e-05,\n",
       " 'NV-LN': 4.418288818469893e-05,\n",
       " 'NV-EO': 3.331824354911722e-05,\n",
       " 'NV-FA': 2.9334540516070603e-05,\n",
       " 'NV-VB': 1.7745586238116784e-05,\n",
       " 'NV-DR': 1.3399728383884103e-05,\n",
       " 'NV-SV': 1.3399728383884103e-05,\n",
       " 'NV-KM': 9.053870529651419e-06,\n",
       " 'NV-PG': 8.329560887279306e-06,\n",
       " 'NV-LS': 6.518786781349022e-06,\n",
       " 'NV-MS': 4.345857854232682e-06,\n",
       " 'NV-YT': 4.345857854232682e-06,\n",
       " 'NV-GZ': 2.172928927116341e-06,\n",
       " 'NV-AA': 1.4486192847442271e-06,\n",
       " 'NV-NL': 7.243096423721136e-07,\n",
       " 'NV-NV': 7.243096423721136e-07,\n",
       " 'NV-NH': 0.0,\n",
       " 'NH-MV': 0.0,\n",
       " 'NH-CL': 0.0,\n",
       " 'NH-SP': 0.0,\n",
       " 'NH-GR': 0.0,\n",
       " 'NH-CS': 0.0,\n",
       " 'NH-LH': 0.0,\n",
       " 'NH-LN': 0.0,\n",
       " 'NH-EO': 0.0,\n",
       " 'NH-FA': 0.0,\n",
       " 'NH-VB': 0.0,\n",
       " 'NH-DR': 0.0,\n",
       " 'NH-SV': 0.0,\n",
       " 'NH-KM': 0.0,\n",
       " 'NH-PG': 0.0,\n",
       " 'NH-LS': 0.0,\n",
       " 'NH-MS': 0.0,\n",
       " 'NH-YT': 0.0,\n",
       " 'NH-GZ': 0.0,\n",
       " 'NH-AA': 0.0,\n",
       " 'NH-NL': 0.0,\n",
       " 'NH-NV': 0.0,\n",
       " 'NH-NH': 0.0}"
      ]
     },
     "execution_count": 25,
     "metadata": {},
     "output_type": "execute_result"
    }
   ],
   "source": [
    "# a joint_PD for calculating the probability of all driver combinations winning the 2 races: PD x PD for each driver\n",
    "\n",
    "def joint(A, B, sep=''):\n",
    "    \"\"\"The joint distribution of two independent probability distributions. \n",
    "    Result is all entries of the form {a+sep+b: P(a)*P(b)}\"\"\"\n",
    "    return ProbDist({a + sep + b: A[a] * B[b] \n",
    "                        for a in A #by def it means a in A.keys()\n",
    "                        for b in B})\n",
    "\n",
    "joint_PD = joint(PD, PD, '-')\n",
    "joint_PD"
   ]
  },
  {
   "cell_type": "markdown",
   "id": "0d816f9c",
   "metadata": {},
   "source": [
    ">Q2 **What is the Probability Distribution for each F1 driver to win both the Bahrain and Saudi Arabian Grand Prix?**\n",
    "\n",
    "The Prob distribution for each driver to win Bahrain GP and Saudi GP is square of their current prob dist:"
   ]
  },
  {
   "cell_type": "code",
   "execution_count": 28,
   "id": "4af9e1a2",
   "metadata": {
    "scrolled": false
   },
   "outputs": [
    {
     "data": {
      "text/plain": [
       "{'MV': 0.03732295156179264,\n",
       " 'CL': 0.017177727478497048,\n",
       " 'SP': 0.016844726120416466,\n",
       " 'GR': 0.013693979176097774,\n",
       " 'CS': 0.010958080579447709,\n",
       " 'LH': 0.010430058850158434,\n",
       " 'LN': 0.0026951561792666347,\n",
       " 'EO': 0.001532639203259392,\n",
       " 'FA': 0.0011880488909008595,\n",
       " 'VB': 0.0004347668628338612,\n",
       " 'DR': 0.00024789497510185594,\n",
       " 'SV': 0.00024789497510185594,\n",
       " 'KM': 0.00011317338162064274,\n",
       " 'PG': 9.5789950203712e-05,\n",
       " 'LS': 5.866908103214119e-05,\n",
       " 'MS': 2.6075147125396088e-05,\n",
       " 'YT': 2.6075147125396088e-05,\n",
       " 'GZ': 6.518786781349022e-06,\n",
       " 'AA': 2.8972385694884543e-06,\n",
       " 'NL': 7.243096423721136e-07,\n",
       " 'NV': 7.243096423721136e-07,\n",
       " 'NH': 0.0}"
      ]
     },
     "execution_count": 28,
     "metadata": {},
     "output_type": "execute_result"
    }
   ],
   "source": [
    "# from joint_PD, we are finding out ppssibilities where both drivers have won the race, \n",
    "# eg: MV-MV means Max V. won both BGP and SAGP\n",
    "both_PD = dict(zip(PD, [joint_PD[x + \"-\" + x] for x in PD]))\n",
    "both_PD"
   ]
  },
  {
   "cell_type": "markdown",
   "id": "20b1aa9f",
   "metadata": {},
   "source": [
    ">Q3 **What is the probability for Ferrari to win both races?**\n",
    "\n",
    "Since each team in F1 has 2 drivers on track, Scuderia Ferrari has Charles Leclerc (CL) and Carlos Sainz (CS) driving for them. \n",
    "\n",
    "\n",
    "The probability of Ferrari winning both GPs is mathematically, summation of CL winning both races and CS winning both races, then CL and CS winning one race each. In code, we find both CL and CS present in space, i.e, joint_PD. Then, we put it in our polymorphic p function to find the probability."
   ]
  },
  {
   "cell_type": "code",
   "execution_count": 12,
   "id": "6c40e5d5",
   "metadata": {},
   "outputs": [
    {
     "name": "stdout",
     "output_type": "stream",
     "text": [
      "Probability that Ferrari wins both races is: 0.05557555454956991\n"
     ]
    }
   ],
   "source": [
    "def ferrari_wins_both(outcome): return ((outcome.startswith('CL') or outcome.startswith('CS')) and (outcome.endswith('CL') or outcome.endswith('CS')))\n",
    "ferrari_wins_both('CL-CS') # true\n",
    "ferrari_wins_both('MV-CL') # false\n",
    "ferrari_wins_both('CS-CS') # true\n",
    "ferrari_wins_both('MV-GR') # false\n",
    "\n",
    "print(\"Probability that Ferrari wins both races is:\", p(ferrari_wins_both, joint_PD))"
   ]
  },
  {
   "cell_type": "markdown",
   "id": "00c9cd6b",
   "metadata": {},
   "source": [
    ">Q4 **What is the probability for Ferrari to win at least one race? Note that Ferrari, and each other racing team, has two drivers per race?**\n",
    "\n",
    "Probability of ferrari winning atleast one race also includes them winning both the races as we found out earlier and stored in ferrari_wins. Adding to that, we can calculate ferrari winning atleast 1 race as follows:\n",
    "\n",
    "For ferrari to win a race, either CL or SP has to win the race, so we can add their probabilities to "
   ]
  },
  {
   "cell_type": "code",
   "execution_count": 13,
   "id": "6aef592d",
   "metadata": {},
   "outputs": [
    {
     "name": "stdout",
     "output_type": "stream",
     "text": [
      "Probability of Ferrari winning atleast one race is:  0.4159138071525573\n"
     ]
    }
   ],
   "source": [
    "def ferrari_atleast_once(outcome): return (('CL' in outcome) or ('CS' in outcome))\n",
    "ferrari_atleast_once('MV-MV') # false\n",
    "ferrari_atleast_once('CL-MV') # true\n",
    "ferrari_atleast_once('MV-CS') # true\n",
    "ferrari_atleast_once('CL-CS') # true\n",
    "\n",
    "print(\"Probability of Ferrari winning atleast one race is: \", p(ferrari_atleast_once, joint_PD))"
   ]
  },
  {
   "cell_type": "markdown",
   "id": "0e07d68b",
   "metadata": {},
   "source": [
    "#### Question 2 (30 points) \n",
    ">Q1 **If Ferrari wins the first race, what is the probability that Ferrari wins the next one?**"
   ]
  },
  {
   "cell_type": "code",
   "execution_count": 14,
   "id": "fadbb906",
   "metadata": {},
   "outputs": [
    {
     "name": "stdout",
     "output_type": "stream",
     "text": [
      "Probability of Ferrari winning 2nd race given that it has won the 1st one is: 0.2357446808510639\n"
     ]
    }
   ],
   "source": [
    "# prob that ferrai wins race 2 given that ferrari wins race 1\n",
    "\n",
    "def ferrari_wins_race1(outcome): return ((outcome.startswith('CL')) or (outcome.startswith('CS')))\n",
    "ferrari_wins_race1('MV-CS') # false\n",
    "ferrari_wins_race1('CL-MV') # true\n",
    "ferrari_wins_race1('CS-GR') # true\n",
    "ferrari_wins_race1('CS-CL') # true\n",
    "\n",
    "def ferrari_wins_race2(outcome): return ((outcome.endswith('CL')) or (outcome.endswith('CS')))\n",
    "ferrari_wins_race2('GR-CS') # true\n",
    "ferrari_wins_race2('CL-MV') # false\n",
    "ferrari_wins_race2('CS-CL') # true\n",
    "\n",
    "print(\"Probability of Ferrari winning 2nd race given that it has won the 1st one is:\", p(ferrari_wins_race2, ferrari_wins_race1, joint_PD))"
   ]
  },
  {
   "cell_type": "markdown",
   "id": "d3c94c94",
   "metadata": {},
   "source": [
    ">Q2 **If Ferrari wins at least one of these two races, what is the probability Ferrari wins both races?**\n"
   ]
  },
  {
   "cell_type": "code",
   "execution_count": 15,
   "id": "e26c36fa",
   "metadata": {},
   "outputs": [
    {
     "name": "stdout",
     "output_type": "stream",
     "text": [
      "Probability of Ferrari winning both races, given that it has one 1 of the races:  0.13362276893391226\n"
     ]
    }
   ],
   "source": [
    "print(\"Probability of Ferrari winning both races, given that it has one 1 of the races: \", p(ferrari_wins_both, ferrari_atleast_once, joint_PD))"
   ]
  },
  {
   "cell_type": "markdown",
   "id": "eca21520",
   "metadata": {},
   "source": [
    ">Q3 **How about Red Bull, Mercedes, and Alpine-Renault?**"
   ]
  },
  {
   "cell_type": "code",
   "execution_count": 32,
   "id": "9a99969d",
   "metadata": {},
   "outputs": [
    {
     "name": "stdout",
     "output_type": "stream",
     "text": [
      "Probability that Redbull wins both races if they have already won one of the races: 0.19259071301700065 \n",
      "\n"
     ]
    }
   ],
   "source": [
    "# for redbull\n",
    "def redbull_wins_both(outcome): return ((outcome.startswith('MV') or outcome.startswith('SP')) and (outcome.endswith('MV') or outcome.endswith('SP')))\n",
    "\n",
    "def redbull_atleast_once(outcome): return (('MV' in outcome) or ('SP' in outcome))\n",
    "print(\"Probability that Redbull wins both races if they have already won one of the races:\", p(redbull_wins_both, redbull_atleast_once, joint_PD), \"\\n\")"
   ]
  },
  {
   "cell_type": "code",
   "execution_count": 17,
   "id": "f20cca0a",
   "metadata": {},
   "outputs": [
    {
     "name": "stdout",
     "output_type": "stream",
     "text": [
      "Probability that Mercedes wins both races if they have already won one of the races: 0.12305854241338116 \n",
      "\n"
     ]
    }
   ],
   "source": [
    "# for Mercedes\n",
    "def merc_wins_both(outcome): return ((outcome.startswith('LH') or outcome.startswith('GR')) and (outcome.endswith('LH') or outcome.endswith('GR')))\n",
    "\n",
    "def merc_atleast_once(outcome): return (('LH' in outcome) or ('GR' in outcome))\n",
    "print(\"Probability that Mercedes wins both races if they have already won one of the races:\", p(merc_wins_both, merc_atleast_once, joint_PD), \"\\n\")"
   ]
  },
  {
   "cell_type": "code",
   "execution_count": 34,
   "id": "d6633dbc",
   "metadata": {},
   "outputs": [
    {
     "name": "stdout",
     "output_type": "stream",
     "text": [
      "Probability that Alpine-Renault wins both races if they have already won one of the races: 0.03821515352330462\n"
     ]
    }
   ],
   "source": [
    "# for Alpine-Renault\n",
    "def ar_wins_both(outcome): return ((outcome.startswith('EO') or outcome.startswith('FA')) and (outcome.endswith('EO') or outcome.endswith('FA')))\n",
    "\n",
    "def ar_atleast_once(outcome): return (('EO' in outcome) or ('FA' in outcome))\n",
    "print(\"Probability that Alpine-Renault wins both races if they have already won one of the races:\", p(ar_wins_both, ar_atleast_once, joint_PD))"
   ]
  },
  {
   "cell_type": "markdown",
   "id": "66a89dab",
   "metadata": {},
   "source": [
    "#### Question 3 (40 points) \n",
    "Ferrari wins one of these two races on a rainy day. \n"
   ]
  },
  {
   "cell_type": "code",
   "execution_count": 19,
   "id": "7bc344fc",
   "metadata": {},
   "outputs": [
    {
     "data": {
      "text/plain": [
       "{'Rain': 0.2, 'Sun': 0.2, 'Cloud': 0.2, 'Snow': 0.2, 'Fog': 0.2}"
      ]
     },
     "execution_count": 19,
     "metadata": {},
     "output_type": "execute_result"
    }
   ],
   "source": [
    "# defining ProbDist for weather conditions: rain, sun, now, fog and cloud\n",
    "W = ProbDist(Rain = 20,\n",
    "            Sun = 20,\n",
    "            Cloud = 20,\n",
    "            Snow = 20,\n",
    "            Fog = 20)\n",
    "W"
   ]
  },
  {
   "cell_type": "code",
   "execution_count": 20,
   "id": "2ceee131",
   "metadata": {
    "scrolled": true
   },
   "outputs": [
    {
     "name": "stdout",
     "output_type": "stream",
     "text": [
      "{'Rain:MV-MV': 0.007464590312358517, 'Rain:MV-CL': 0.0050640832956088625, 'Rain:MV-SP': 0.005014757808963321, 'Rain:MV-GR': 0.004521502942507913, 'Rain:MV-CS': 0.004044689904934351, 'Rain:MV-LH': 0.003946038931643268, 'Rain:MV-LN': 0.0020059031235853285, 'Rain:MV-EO': 0.0015126482571299197, 'Rain:MV-FA': 0.0013317881394296033, 'Rain:MV-VB': 0.0008056496152105009, 'Rain:MV-DR': 0.0006083476686283373, 'Rain:MV-SV': 0.0006083476686283373, 'Rain:MV-KM': 0.00041104572204617385, 'Rain:MV-PG': 0.0003781620642824799, 'Rain:MV-LS': 0.0002959529198732452, 'Rain:MV-MS': 0.00019730194658216344, 'Rain:MV-YT': 0.00019730194658216344, 'Rain:MV-GZ': 9.865097329108172e-05, 'Rain:MV-AA': 6.576731552738781e-05, 'Rain:MV-NL': 3.2883657763693905e-05, 'Rain:MV-NV': 3.2883657763693905e-05, 'Rain:MV-NH': 0.0, 'Rain:CL-MV': 0.0050640832956088625, 'Rain:CL-CL': 0.0034355454956994046, 'Rain:CL-SP': 0.003402082390221812, 'Rain:CL-GR': 0.0030674513354458964, 'Rain:CL-CS': 0.0027439746491625112, 'Rain:CL-LH': 0.0026770484382073276, 'Rain:CL-LN': 0.001360832956088725, 'Rain:CL-EO': 0.0010262019013128091, 'Rain:CL-FA': 0.0009035038478949733, 'Rain:CL-VB': 0.0005465640561339961, 'Rain:CL-DR': 0.00041271163422362974, 'Rain:CL-SV': 0.00041271163422362974, 'Rain:CL-KM': 0.00027885921231326333, 'Rain:CL-PG': 0.0002565504753282023, 'Rain:CL-LS': 0.00020077863286554955, 'Rain:CL-MS': 0.00013385242191036638, 'Rain:CL-YT': 0.00013385242191036638, 'Rain:CL-GZ': 6.692621095518319e-05, 'Rain:CL-AA': 4.461747397012214e-05, 'Rain:CL-NL': 2.230873698506107e-05, 'Rain:CL-NV': 2.230873698506107e-05, 'Rain:CL-NH': 0.0, 'Rain:SP-MV': 0.005014757808963321, 'Rain:SP-CL': 0.003402082390221812, 'Rain:SP-SP': 0.0033689452240832883, 'Rain:SP-GR': 0.0030375735626980466, 'Rain:SP-CS': 0.00271724762335898, 'Rain:SP-LH': 0.002650973291081931, 'Rain:SP-LN': 0.0013475780896333154, 'Rain:SP-EO': 0.0010162064282480737, 'Rain:SP-FA': 0.0008947034857401522, 'Rain:SP-VB': 0.000541240380262561, 'Rain:SP-DR': 0.00040869171570846453, 'Rain:SP-SV': 0.00040869171570846453, 'Rain:SP-KM': 0.00027614305115436787, 'Rain:SP-PG': 0.0002540516070620184, 'Rain:SP-LS': 0.00019882299683114487, 'Rain:SP-MS': 0.00013254866455409656, 'Rain:SP-YT': 0.00013254866455409656, 'Rain:SP-GZ': 6.627433227704828e-05, 'Rain:SP-AA': 4.418288818469886e-05, 'Rain:SP-NL': 2.209144409234943e-05, 'Rain:SP-NV': 2.209144409234943e-05, 'Rain:SP-NH': 0.0, 'Rain:GR-MV': 0.004521502942507913, 'Rain:GR-CL': 0.0030674513354458964, 'Rain:GR-SP': 0.0030375735626980466, 'Rain:GR-GR': 0.0027387958352195507, 'Rain:GR-CS': 0.002449977365323671, 'Rain:GR-LH': 0.002390221819827971, 'Rain:GR-LN': 0.0012150294250792186, 'Rain:GR-EO': 0.0009162516976007222, 'Rain:GR-FA': 0.0008066998641919404, 'Rain:GR-VB': 0.00048800362154821083, 'Rain:GR-DR': 0.00036849253055681224, 'Rain:GR-SV': 0.00036849253055681224, 'Rain:GR-KM': 0.0002489814395654137, 'Rain:GR-PG': 0.00022906292440018054, 'Rain:GR-LS': 0.00017926663648709784, 'Rain:GR-MS': 0.00011951109099139855, 'Rain:GR-YT': 0.00011951109099139855, 'Rain:GR-GZ': 5.975554549569928e-05, 'Rain:GR-AA': 3.983703033046619e-05, 'Rain:GR-NL': 1.9918515165233096e-05, 'Rain:GR-NV': 1.9918515165233096e-05, 'Rain:GR-NH': 0.0, 'Rain:CS-MV': 0.004044689904934351, 'Rain:CS-CL': 0.0027439746491625112, 'Rain:CS-SP': 0.00271724762335898, 'Rain:CS-GR': 0.002449977365323671, 'Rain:CS-CS': 0.0021916161158895384, 'Rain:CS-LH': 0.002138162064282476, 'Rain:CS-LN': 0.001086899049343592, 'Rain:CS-EO': 0.0008196287913082824, 'Rain:CS-FA': 0.0007216296966953359, 'Rain:CS-VB': 0.00043654142145767224, 'Rain:CS-DR': 0.00032963331824354845, 'Rain:CS-SV': 0.00032963331824354845, 'Rain:CS-KM': 0.0002227252150294246, 'Rain:CS-PG': 0.0002049071978270706, 'Rain:CS-LS': 0.00016036215482118573, 'Rain:CS-MS': 0.00010690810321412381, 'Rain:CS-YT': 0.00010690810321412381, 'Rain:CS-GZ': 5.3454051607061906e-05, 'Rain:CS-AA': 3.563603440470794e-05, 'Rain:CS-NL': 1.781801720235397e-05, 'Rain:CS-NV': 1.781801720235397e-05, 'Rain:CS-NH': 0.0, 'Rain:LH-MV': 0.003946038931643268, 'Rain:LH-CL': 0.0026770484382073276, 'Rain:LH-SP': 0.002650973291081931, 'Rain:LH-GR': 0.002390221819827971, 'Rain:LH-CS': 0.002138162064282476, 'Rain:LH-LH': 0.002086011770031684, 'Rain:LH-LN': 0.0010603893164327727, 'Rain:LH-EO': 0.0007996378451788122, 'Rain:LH-FA': 0.0007040289723856934, 'Rain:LH-VB': 0.00042589406971480214, 'Rain:LH-DR': 0.000321593481213218, 'Rain:LH-SV': 0.000321593481213218, 'Rain:LH-KM': 0.0002172928927116338, 'Rain:LH-PG': 0.00019990946129470305, 'Rain:LH-LS': 0.0001564508827523763, 'Rain:LH-MS': 0.00010430058850158419, 'Rain:LH-YT': 0.00010430058850158419, 'Rain:LH-GZ': 5.2150294250792095e-05, 'Rain:LH-AA': 3.47668628338614e-05, 'Rain:LH-NL': 1.73834314169307e-05, 'Rain:LH-NV': 1.73834314169307e-05, 'Rain:LH-NH': 0.0, 'Rain:LN-MV': 0.0020059031235853285, 'Rain:LN-CL': 0.001360832956088725, 'Rain:LN-SP': 0.0013475780896333154, 'Rain:LN-GR': 0.0012150294250792186, 'Rain:LN-CS': 0.001086899049343592, 'Rain:LN-LH': 0.0010603893164327727, 'Rain:LN-LN': 0.0005390312358533261, 'Rain:LN-EO': 0.00040648257129922955, 'Rain:LN-FA': 0.00035788139429606086, 'Rain:LN-VB': 0.00021649615210502445, 'Rain:LN-DR': 0.00016347668628338582, 'Rain:LN-SV': 0.00016347668628338582, 'Rain:LN-KM': 0.00011045722046174717, 'Rain:LN-PG': 0.00010162064282480739, 'Rain:LN-LS': 7.952919873245794e-05, 'Rain:LN-MS': 5.301946582163864e-05, 'Rain:LN-YT': 5.301946582163864e-05, 'Rain:LN-GZ': 2.650973291081932e-05, 'Rain:LN-AA': 1.7673155273879544e-05, 'Rain:LN-NL': 8.836577636939772e-06, 'Rain:LN-NV': 8.836577636939772e-06, 'Rain:LN-NH': 0.0, 'Rain:EO-MV': 0.0015126482571299197, 'Rain:EO-CL': 0.0010262019013128091, 'Rain:EO-SP': 0.0010162064282480737, 'Rain:EO-GR': 0.0009162516976007222, 'Rain:EO-CS': 0.0008196287913082824, 'Rain:EO-LH': 0.0007996378451788122, 'Rain:EO-LN': 0.00040648257129922955, 'Rain:EO-EO': 0.00030652784065187793, 'Rain:EO-FA': 0.0002698777727478491, 'Rain:EO-VB': 0.00016325939339067417, 'Rain:EO-DR': 0.00012327750113173353, 'Rain:EO-SV': 0.00012327750113173353, 'Rain:EO-KM': 8.329560887279292e-05, 'Rain:EO-PG': 7.663196016296948e-05, 'Rain:EO-LS': 5.99728383884109e-05, 'Rain:EO-MS': 3.9981892258940603e-05, 'Rain:EO-YT': 3.9981892258940603e-05, 'Rain:EO-GZ': 1.9990946129470302e-05, 'Rain:EO-AA': 1.332729741964687e-05, 'Rain:EO-NL': 6.663648709823435e-06, 'Rain:EO-NV': 6.663648709823435e-06, 'Rain:EO-NH': 0.0, 'Rain:FA-MV': 0.0013317881394296033, 'Rain:FA-CL': 0.0009035038478949733, 'Rain:FA-SP': 0.0008947034857401522, 'Rain:FA-GR': 0.0008066998641919404, 'Rain:FA-CS': 0.0007216296966953359, 'Rain:FA-LH': 0.0007040289723856934, 'Rain:FA-LN': 0.00035788139429606086, 'Rain:FA-EO': 0.0002698777727478491, 'Rain:FA-FA': 0.00023760977818017154, 'Rain:FA-VB': 0.00014373924852874577, 'Rain:FA-DR': 0.00010853779990946108, 'Rain:FA-SV': 0.00010853779990946108, 'Rain:FA-KM': 7.33363512901764e-05, 'Rain:FA-PG': 6.746944318696228e-05, 'Rain:FA-LS': 5.2802172928927004e-05, 'Rain:FA-MS': 3.520144861928467e-05, 'Rain:FA-YT': 3.520144861928467e-05, 'Rain:FA-GZ': 1.7600724309642335e-05, 'Rain:FA-AA': 1.1733816206428223e-05, 'Rain:FA-NL': 5.866908103214111e-06, 'Rain:FA-NV': 5.866908103214111e-06, 'Rain:FA-NH': 0.0, 'Rain:VB-MV': 0.0008056496152105009, 'Rain:VB-CL': 0.0005465640561339961, 'Rain:VB-SP': 0.000541240380262561, 'Rain:VB-GR': 0.00048800362154821083, 'Rain:VB-CS': 0.00043654142145767224, 'Rain:VB-LH': 0.00042589406971480214, 'Rain:VB-LN': 0.00021649615210502445, 'Rain:VB-EO': 0.00016325939339067417, 'Rain:VB-FA': 0.00014373924852874577, 'Rain:VB-VB': 8.695337256677212e-05, 'Rain:VB-DR': 6.565866908103201e-05, 'Rain:VB-SV': 6.565866908103201e-05, 'Rain:VB-KM': 4.43639655952919e-05, 'Rain:VB-PG': 4.081484834766854e-05, 'Rain:VB-LS': 3.1942055228610165e-05, 'Rain:VB-MS': 2.1294703485740106e-05, 'Rain:VB-YT': 2.1294703485740106e-05, 'Rain:VB-GZ': 1.0647351742870053e-05, 'Rain:VB-AA': 7.098234495246703e-06, 'Rain:VB-NL': 3.5491172476233515e-06, 'Rain:VB-NV': 3.5491172476233515e-06, 'Rain:VB-NH': 0.0, 'Rain:DR-MV': 0.0006083476686283373, 'Rain:DR-CL': 0.00041271163422362974, 'Rain:DR-SP': 0.00040869171570846453, 'Rain:DR-GR': 0.00036849253055681224, 'Rain:DR-CS': 0.00032963331824354845, 'Rain:DR-LH': 0.000321593481213218, 'Rain:DR-LN': 0.00016347668628338582, 'Rain:DR-EO': 0.00012327750113173353, 'Rain:DR-FA': 0.00010853779990946108, 'Rain:DR-VB': 6.565866908103201e-05, 'Rain:DR-DR': 4.9578995020371116e-05, 'Rain:DR-SV': 4.9578995020371116e-05, 'Rain:DR-KM': 3.3499320959710204e-05, 'Rain:DR-PG': 3.081937528293338e-05, 'Rain:DR-LS': 2.4119511090991347e-05, 'Rain:DR-MS': 1.6079674060660898e-05, 'Rain:DR-YT': 1.6079674060660898e-05, 'Rain:DR-GZ': 8.039837030330449e-06, 'Rain:DR-AA': 5.359891353553633e-06, 'Rain:DR-NL': 2.6799456767768165e-06, 'Rain:DR-NV': 2.6799456767768165e-06, 'Rain:DR-NH': 0.0, 'Rain:SV-MV': 0.0006083476686283373, 'Rain:SV-CL': 0.00041271163422362974, 'Rain:SV-SP': 0.00040869171570846453, 'Rain:SV-GR': 0.00036849253055681224, 'Rain:SV-CS': 0.00032963331824354845, 'Rain:SV-LH': 0.000321593481213218, 'Rain:SV-LN': 0.00016347668628338582, 'Rain:SV-EO': 0.00012327750113173353, 'Rain:SV-FA': 0.00010853779990946108, 'Rain:SV-VB': 6.565866908103201e-05, 'Rain:SV-DR': 4.9578995020371116e-05, 'Rain:SV-SV': 4.9578995020371116e-05, 'Rain:SV-KM': 3.3499320959710204e-05, 'Rain:SV-PG': 3.081937528293338e-05, 'Rain:SV-LS': 2.4119511090991347e-05, 'Rain:SV-MS': 1.6079674060660898e-05, 'Rain:SV-YT': 1.6079674060660898e-05, 'Rain:SV-GZ': 8.039837030330449e-06, 'Rain:SV-AA': 5.359891353553633e-06, 'Rain:SV-NL': 2.6799456767768165e-06, 'Rain:SV-NV': 2.6799456767768165e-06, 'Rain:SV-NH': 0.0, 'Rain:KM-MV': 0.00041104572204617385, 'Rain:KM-CL': 0.00027885921231326333, 'Rain:KM-SP': 0.00027614305115436787, 'Rain:KM-GR': 0.0002489814395654137, 'Rain:KM-CS': 0.0002227252150294246, 'Rain:KM-LH': 0.0002172928927116338, 'Rain:KM-LN': 0.00011045722046174717, 'Rain:KM-EO': 8.329560887279292e-05, 'Rain:KM-FA': 7.33363512901764e-05, 'Rain:KM-VB': 4.43639655952919e-05, 'Rain:KM-DR': 3.3499320959710204e-05, 'Rain:KM-SV': 3.3499320959710204e-05, 'Rain:KM-KM': 2.2634676324128517e-05, 'Rain:KM-PG': 2.082390221819823e-05, 'Rain:KM-LS': 1.6296966953372533e-05, 'Rain:KM-MS': 1.0864644635581687e-05, 'Rain:KM-YT': 1.0864644635581687e-05, 'Rain:KM-GZ': 5.432322317790843e-06, 'Rain:KM-AA': 3.6215482118605622e-06, 'Rain:KM-NL': 1.8107741059302811e-06, 'Rain:KM-NV': 1.8107741059302811e-06, 'Rain:KM-NH': 0.0, 'Rain:PG-MV': 0.0003781620642824799, 'Rain:PG-CL': 0.0002565504753282023, 'Rain:PG-SP': 0.0002540516070620184, 'Rain:PG-GR': 0.00022906292440018054, 'Rain:PG-CS': 0.0002049071978270706, 'Rain:PG-LH': 0.00019990946129470305, 'Rain:PG-LN': 0.00010162064282480739, 'Rain:PG-EO': 7.663196016296948e-05, 'Rain:PG-FA': 6.746944318696228e-05, 'Rain:PG-VB': 4.081484834766854e-05, 'Rain:PG-DR': 3.081937528293338e-05, 'Rain:PG-SV': 3.081937528293338e-05, 'Rain:PG-KM': 2.082390221819823e-05, 'Rain:PG-PG': 1.915799004074237e-05, 'Rain:PG-LS': 1.4993209597102725e-05, 'Rain:PG-MS': 9.995473064735151e-06, 'Rain:PG-YT': 9.995473064735151e-06, 'Rain:PG-GZ': 4.9977365323675754e-06, 'Rain:PG-AA': 3.3318243549117175e-06, 'Rain:PG-NL': 1.6659121774558588e-06, 'Rain:PG-NV': 1.6659121774558588e-06, 'Rain:PG-NH': 0.0, 'Rain:LS-MV': 0.0002959529198732452, 'Rain:LS-CL': 0.00020077863286554955, 'Rain:LS-SP': 0.00019882299683114487, 'Rain:LS-GR': 0.00017926663648709784, 'Rain:LS-CS': 0.00016036215482118573, 'Rain:LS-LH': 0.0001564508827523763, 'Rain:LS-LN': 7.952919873245794e-05, 'Rain:LS-EO': 5.99728383884109e-05, 'Rain:LS-FA': 5.2802172928927004e-05, 'Rain:LS-VB': 3.1942055228610165e-05, 'Rain:LS-DR': 2.4119511090991347e-05, 'Rain:LS-SV': 2.4119511090991347e-05, 'Rain:LS-KM': 1.6296966953372533e-05, 'Rain:LS-PG': 1.4993209597102725e-05, 'Rain:LS-LS': 1.173381620642822e-05, 'Rain:LS-MS': 7.822544137618814e-06, 'Rain:LS-YT': 7.822544137618814e-06, 'Rain:LS-GZ': 3.911272068809407e-06, 'Rain:LS-AA': 2.607514712539605e-06, 'Rain:LS-NL': 1.3037573562698025e-06, 'Rain:LS-NV': 1.3037573562698025e-06, 'Rain:LS-NH': 0.0, 'Rain:MS-MV': 0.00019730194658216344, 'Rain:MS-CL': 0.00013385242191036638, 'Rain:MS-SP': 0.00013254866455409656, 'Rain:MS-GR': 0.00011951109099139855, 'Rain:MS-CS': 0.00010690810321412381, 'Rain:MS-LH': 0.00010430058850158419, 'Rain:MS-LN': 5.301946582163864e-05, 'Rain:MS-EO': 3.9981892258940603e-05, 'Rain:MS-FA': 3.520144861928467e-05, 'Rain:MS-VB': 2.1294703485740106e-05, 'Rain:MS-DR': 1.6079674060660898e-05, 'Rain:MS-SV': 1.6079674060660898e-05, 'Rain:MS-KM': 1.0864644635581687e-05, 'Rain:MS-PG': 9.995473064735151e-06, 'Rain:MS-LS': 7.822544137618814e-06, 'Rain:MS-MS': 5.21502942507921e-06, 'Rain:MS-YT': 5.21502942507921e-06, 'Rain:MS-GZ': 2.607514712539605e-06, 'Rain:MS-AA': 1.73834314169307e-06, 'Rain:MS-NL': 8.69171570846535e-07, 'Rain:MS-NV': 8.69171570846535e-07, 'Rain:MS-NH': 0.0, 'Rain:YT-MV': 0.00019730194658216344, 'Rain:YT-CL': 0.00013385242191036638, 'Rain:YT-SP': 0.00013254866455409656, 'Rain:YT-GR': 0.00011951109099139855, 'Rain:YT-CS': 0.00010690810321412381, 'Rain:YT-LH': 0.00010430058850158419, 'Rain:YT-LN': 5.301946582163864e-05, 'Rain:YT-EO': 3.9981892258940603e-05, 'Rain:YT-FA': 3.520144861928467e-05, 'Rain:YT-VB': 2.1294703485740106e-05, 'Rain:YT-DR': 1.6079674060660898e-05, 'Rain:YT-SV': 1.6079674060660898e-05, 'Rain:YT-KM': 1.0864644635581687e-05, 'Rain:YT-PG': 9.995473064735151e-06, 'Rain:YT-LS': 7.822544137618814e-06, 'Rain:YT-MS': 5.21502942507921e-06, 'Rain:YT-YT': 5.21502942507921e-06, 'Rain:YT-GZ': 2.607514712539605e-06, 'Rain:YT-AA': 1.73834314169307e-06, 'Rain:YT-NL': 8.69171570846535e-07, 'Rain:YT-NV': 8.69171570846535e-07, 'Rain:YT-NH': 0.0, 'Rain:GZ-MV': 9.865097329108172e-05, 'Rain:GZ-CL': 6.692621095518319e-05, 'Rain:GZ-SP': 6.627433227704828e-05, 'Rain:GZ-GR': 5.975554549569928e-05, 'Rain:GZ-CS': 5.3454051607061906e-05, 'Rain:GZ-LH': 5.2150294250792095e-05, 'Rain:GZ-LN': 2.650973291081932e-05, 'Rain:GZ-EO': 1.9990946129470302e-05, 'Rain:GZ-FA': 1.7600724309642335e-05, 'Rain:GZ-VB': 1.0647351742870053e-05, 'Rain:GZ-DR': 8.039837030330449e-06, 'Rain:GZ-SV': 8.039837030330449e-06, 'Rain:GZ-KM': 5.432322317790843e-06, 'Rain:GZ-PG': 4.9977365323675754e-06, 'Rain:GZ-LS': 3.911272068809407e-06, 'Rain:GZ-MS': 2.607514712539605e-06, 'Rain:GZ-YT': 2.607514712539605e-06, 'Rain:GZ-GZ': 1.3037573562698025e-06, 'Rain:GZ-AA': 8.69171570846535e-07, 'Rain:GZ-NL': 4.345857854232675e-07, 'Rain:GZ-NV': 4.345857854232675e-07, 'Rain:GZ-NH': 0.0, 'Rain:AA-MV': 6.576731552738781e-05, 'Rain:AA-CL': 4.461747397012214e-05, 'Rain:AA-SP': 4.418288818469886e-05, 'Rain:AA-GR': 3.983703033046619e-05, 'Rain:AA-CS': 3.563603440470794e-05, 'Rain:AA-LH': 3.47668628338614e-05, 'Rain:AA-LN': 1.7673155273879544e-05, 'Rain:AA-EO': 1.332729741964687e-05, 'Rain:AA-FA': 1.1733816206428223e-05, 'Rain:AA-VB': 7.098234495246703e-06, 'Rain:AA-DR': 5.359891353553633e-06, 'Rain:AA-SV': 5.359891353553633e-06, 'Rain:AA-KM': 3.6215482118605622e-06, 'Rain:AA-PG': 3.3318243549117175e-06, 'Rain:AA-LS': 2.607514712539605e-06, 'Rain:AA-MS': 1.73834314169307e-06, 'Rain:AA-YT': 1.73834314169307e-06, 'Rain:AA-GZ': 8.69171570846535e-07, 'Rain:AA-AA': 5.794477138976899e-07, 'Rain:AA-NL': 2.8972385694884497e-07, 'Rain:AA-NV': 2.8972385694884497e-07, 'Rain:AA-NH': 0.0, 'Rain:NL-MV': 3.2883657763693905e-05, 'Rain:NL-CL': 2.230873698506107e-05, 'Rain:NL-SP': 2.209144409234943e-05, 'Rain:NL-GR': 1.9918515165233096e-05, 'Rain:NL-CS': 1.781801720235397e-05, 'Rain:NL-LH': 1.73834314169307e-05, 'Rain:NL-LN': 8.836577636939772e-06, 'Rain:NL-EO': 6.663648709823435e-06, 'Rain:NL-FA': 5.866908103214111e-06, 'Rain:NL-VB': 3.5491172476233515e-06, 'Rain:NL-DR': 2.6799456767768165e-06, 'Rain:NL-SV': 2.6799456767768165e-06, 'Rain:NL-KM': 1.8107741059302811e-06, 'Rain:NL-PG': 1.6659121774558588e-06, 'Rain:NL-LS': 1.3037573562698025e-06, 'Rain:NL-MS': 8.69171570846535e-07, 'Rain:NL-YT': 8.69171570846535e-07, 'Rain:NL-GZ': 4.345857854232675e-07, 'Rain:NL-AA': 2.8972385694884497e-07, 'Rain:NL-NL': 1.4486192847442249e-07, 'Rain:NL-NV': 1.4486192847442249e-07, 'Rain:NL-NH': 0.0, 'Rain:NV-MV': 3.2883657763693905e-05, 'Rain:NV-CL': 2.230873698506107e-05, 'Rain:NV-SP': 2.209144409234943e-05, 'Rain:NV-GR': 1.9918515165233096e-05, 'Rain:NV-CS': 1.781801720235397e-05, 'Rain:NV-LH': 1.73834314169307e-05, 'Rain:NV-LN': 8.836577636939772e-06, 'Rain:NV-EO': 6.663648709823435e-06, 'Rain:NV-FA': 5.866908103214111e-06, 'Rain:NV-VB': 3.5491172476233515e-06, 'Rain:NV-DR': 2.6799456767768165e-06, 'Rain:NV-SV': 2.6799456767768165e-06, 'Rain:NV-KM': 1.8107741059302811e-06, 'Rain:NV-PG': 1.6659121774558588e-06, 'Rain:NV-LS': 1.3037573562698025e-06, 'Rain:NV-MS': 8.69171570846535e-07, 'Rain:NV-YT': 8.69171570846535e-07, 'Rain:NV-GZ': 4.345857854232675e-07, 'Rain:NV-AA': 2.8972385694884497e-07, 'Rain:NV-NL': 1.4486192847442249e-07, 'Rain:NV-NV': 1.4486192847442249e-07, 'Rain:NV-NH': 0.0, 'Rain:NH-MV': 0.0, 'Rain:NH-CL': 0.0, 'Rain:NH-SP': 0.0, 'Rain:NH-GR': 0.0, 'Rain:NH-CS': 0.0, 'Rain:NH-LH': 0.0, 'Rain:NH-LN': 0.0, 'Rain:NH-EO': 0.0, 'Rain:NH-FA': 0.0, 'Rain:NH-VB': 0.0, 'Rain:NH-DR': 0.0, 'Rain:NH-SV': 0.0, 'Rain:NH-KM': 0.0, 'Rain:NH-PG': 0.0, 'Rain:NH-LS': 0.0, 'Rain:NH-MS': 0.0, 'Rain:NH-YT': 0.0, 'Rain:NH-GZ': 0.0, 'Rain:NH-AA': 0.0, 'Rain:NH-NL': 0.0, 'Rain:NH-NV': 0.0, 'Rain:NH-NH': 0.0, 'Sun:MV-MV': 0.007464590312358517, 'Sun:MV-CL': 0.0050640832956088625, 'Sun:MV-SP': 0.005014757808963321, 'Sun:MV-GR': 0.004521502942507913, 'Sun:MV-CS': 0.004044689904934351, 'Sun:MV-LH': 0.003946038931643268, 'Sun:MV-LN': 0.0020059031235853285, 'Sun:MV-EO': 0.0015126482571299197, 'Sun:MV-FA': 0.0013317881394296033, 'Sun:MV-VB': 0.0008056496152105009, 'Sun:MV-DR': 0.0006083476686283373, 'Sun:MV-SV': 0.0006083476686283373, 'Sun:MV-KM': 0.00041104572204617385, 'Sun:MV-PG': 0.0003781620642824799, 'Sun:MV-LS': 0.0002959529198732452, 'Sun:MV-MS': 0.00019730194658216344, 'Sun:MV-YT': 0.00019730194658216344, 'Sun:MV-GZ': 9.865097329108172e-05, 'Sun:MV-AA': 6.576731552738781e-05, 'Sun:MV-NL': 3.2883657763693905e-05, 'Sun:MV-NV': 3.2883657763693905e-05, 'Sun:MV-NH': 0.0, 'Sun:CL-MV': 0.0050640832956088625, 'Sun:CL-CL': 0.0034355454956994046, 'Sun:CL-SP': 0.003402082390221812, 'Sun:CL-GR': 0.0030674513354458964, 'Sun:CL-CS': 0.0027439746491625112, 'Sun:CL-LH': 0.0026770484382073276, 'Sun:CL-LN': 0.001360832956088725, 'Sun:CL-EO': 0.0010262019013128091, 'Sun:CL-FA': 0.0009035038478949733, 'Sun:CL-VB': 0.0005465640561339961, 'Sun:CL-DR': 0.00041271163422362974, 'Sun:CL-SV': 0.00041271163422362974, 'Sun:CL-KM': 0.00027885921231326333, 'Sun:CL-PG': 0.0002565504753282023, 'Sun:CL-LS': 0.00020077863286554955, 'Sun:CL-MS': 0.00013385242191036638, 'Sun:CL-YT': 0.00013385242191036638, 'Sun:CL-GZ': 6.692621095518319e-05, 'Sun:CL-AA': 4.461747397012214e-05, 'Sun:CL-NL': 2.230873698506107e-05, 'Sun:CL-NV': 2.230873698506107e-05, 'Sun:CL-NH': 0.0, 'Sun:SP-MV': 0.005014757808963321, 'Sun:SP-CL': 0.003402082390221812, 'Sun:SP-SP': 0.0033689452240832883, 'Sun:SP-GR': 0.0030375735626980466, 'Sun:SP-CS': 0.00271724762335898, 'Sun:SP-LH': 0.002650973291081931, 'Sun:SP-LN': 0.0013475780896333154, 'Sun:SP-EO': 0.0010162064282480737, 'Sun:SP-FA': 0.0008947034857401522, 'Sun:SP-VB': 0.000541240380262561, 'Sun:SP-DR': 0.00040869171570846453, 'Sun:SP-SV': 0.00040869171570846453, 'Sun:SP-KM': 0.00027614305115436787, 'Sun:SP-PG': 0.0002540516070620184, 'Sun:SP-LS': 0.00019882299683114487, 'Sun:SP-MS': 0.00013254866455409656, 'Sun:SP-YT': 0.00013254866455409656, 'Sun:SP-GZ': 6.627433227704828e-05, 'Sun:SP-AA': 4.418288818469886e-05, 'Sun:SP-NL': 2.209144409234943e-05, 'Sun:SP-NV': 2.209144409234943e-05, 'Sun:SP-NH': 0.0, 'Sun:GR-MV': 0.004521502942507913, 'Sun:GR-CL': 0.0030674513354458964, 'Sun:GR-SP': 0.0030375735626980466, 'Sun:GR-GR': 0.0027387958352195507, 'Sun:GR-CS': 0.002449977365323671, 'Sun:GR-LH': 0.002390221819827971, 'Sun:GR-LN': 0.0012150294250792186, 'Sun:GR-EO': 0.0009162516976007222, 'Sun:GR-FA': 0.0008066998641919404, 'Sun:GR-VB': 0.00048800362154821083, 'Sun:GR-DR': 0.00036849253055681224, 'Sun:GR-SV': 0.00036849253055681224, 'Sun:GR-KM': 0.0002489814395654137, 'Sun:GR-PG': 0.00022906292440018054, 'Sun:GR-LS': 0.00017926663648709784, 'Sun:GR-MS': 0.00011951109099139855, 'Sun:GR-YT': 0.00011951109099139855, 'Sun:GR-GZ': 5.975554549569928e-05, 'Sun:GR-AA': 3.983703033046619e-05, 'Sun:GR-NL': 1.9918515165233096e-05, 'Sun:GR-NV': 1.9918515165233096e-05, 'Sun:GR-NH': 0.0, 'Sun:CS-MV': 0.004044689904934351, 'Sun:CS-CL': 0.0027439746491625112, 'Sun:CS-SP': 0.00271724762335898, 'Sun:CS-GR': 0.002449977365323671, 'Sun:CS-CS': 0.0021916161158895384, 'Sun:CS-LH': 0.002138162064282476, 'Sun:CS-LN': 0.001086899049343592, 'Sun:CS-EO': 0.0008196287913082824, 'Sun:CS-FA': 0.0007216296966953359, 'Sun:CS-VB': 0.00043654142145767224, 'Sun:CS-DR': 0.00032963331824354845, 'Sun:CS-SV': 0.00032963331824354845, 'Sun:CS-KM': 0.0002227252150294246, 'Sun:CS-PG': 0.0002049071978270706, 'Sun:CS-LS': 0.00016036215482118573, 'Sun:CS-MS': 0.00010690810321412381, 'Sun:CS-YT': 0.00010690810321412381, 'Sun:CS-GZ': 5.3454051607061906e-05, 'Sun:CS-AA': 3.563603440470794e-05, 'Sun:CS-NL': 1.781801720235397e-05, 'Sun:CS-NV': 1.781801720235397e-05, 'Sun:CS-NH': 0.0, 'Sun:LH-MV': 0.003946038931643268, 'Sun:LH-CL': 0.0026770484382073276, 'Sun:LH-SP': 0.002650973291081931, 'Sun:LH-GR': 0.002390221819827971, 'Sun:LH-CS': 0.002138162064282476, 'Sun:LH-LH': 0.002086011770031684, 'Sun:LH-LN': 0.0010603893164327727, 'Sun:LH-EO': 0.0007996378451788122, 'Sun:LH-FA': 0.0007040289723856934, 'Sun:LH-VB': 0.00042589406971480214, 'Sun:LH-DR': 0.000321593481213218, 'Sun:LH-SV': 0.000321593481213218, 'Sun:LH-KM': 0.0002172928927116338, 'Sun:LH-PG': 0.00019990946129470305, 'Sun:LH-LS': 0.0001564508827523763, 'Sun:LH-MS': 0.00010430058850158419, 'Sun:LH-YT': 0.00010430058850158419, 'Sun:LH-GZ': 5.2150294250792095e-05, 'Sun:LH-AA': 3.47668628338614e-05, 'Sun:LH-NL': 1.73834314169307e-05, 'Sun:LH-NV': 1.73834314169307e-05, 'Sun:LH-NH': 0.0, 'Sun:LN-MV': 0.0020059031235853285, 'Sun:LN-CL': 0.001360832956088725, 'Sun:LN-SP': 0.0013475780896333154, 'Sun:LN-GR': 0.0012150294250792186, 'Sun:LN-CS': 0.001086899049343592, 'Sun:LN-LH': 0.0010603893164327727, 'Sun:LN-LN': 0.0005390312358533261, 'Sun:LN-EO': 0.00040648257129922955, 'Sun:LN-FA': 0.00035788139429606086, 'Sun:LN-VB': 0.00021649615210502445, 'Sun:LN-DR': 0.00016347668628338582, 'Sun:LN-SV': 0.00016347668628338582, 'Sun:LN-KM': 0.00011045722046174717, 'Sun:LN-PG': 0.00010162064282480739, 'Sun:LN-LS': 7.952919873245794e-05, 'Sun:LN-MS': 5.301946582163864e-05, 'Sun:LN-YT': 5.301946582163864e-05, 'Sun:LN-GZ': 2.650973291081932e-05, 'Sun:LN-AA': 1.7673155273879544e-05, 'Sun:LN-NL': 8.836577636939772e-06, 'Sun:LN-NV': 8.836577636939772e-06, 'Sun:LN-NH': 0.0, 'Sun:EO-MV': 0.0015126482571299197, 'Sun:EO-CL': 0.0010262019013128091, 'Sun:EO-SP': 0.0010162064282480737, 'Sun:EO-GR': 0.0009162516976007222, 'Sun:EO-CS': 0.0008196287913082824, 'Sun:EO-LH': 0.0007996378451788122, 'Sun:EO-LN': 0.00040648257129922955, 'Sun:EO-EO': 0.00030652784065187793, 'Sun:EO-FA': 0.0002698777727478491, 'Sun:EO-VB': 0.00016325939339067417, 'Sun:EO-DR': 0.00012327750113173353, 'Sun:EO-SV': 0.00012327750113173353, 'Sun:EO-KM': 8.329560887279292e-05, 'Sun:EO-PG': 7.663196016296948e-05, 'Sun:EO-LS': 5.99728383884109e-05, 'Sun:EO-MS': 3.9981892258940603e-05, 'Sun:EO-YT': 3.9981892258940603e-05, 'Sun:EO-GZ': 1.9990946129470302e-05, 'Sun:EO-AA': 1.332729741964687e-05, 'Sun:EO-NL': 6.663648709823435e-06, 'Sun:EO-NV': 6.663648709823435e-06, 'Sun:EO-NH': 0.0, 'Sun:FA-MV': 0.0013317881394296033, 'Sun:FA-CL': 0.0009035038478949733, 'Sun:FA-SP': 0.0008947034857401522, 'Sun:FA-GR': 0.0008066998641919404, 'Sun:FA-CS': 0.0007216296966953359, 'Sun:FA-LH': 0.0007040289723856934, 'Sun:FA-LN': 0.00035788139429606086, 'Sun:FA-EO': 0.0002698777727478491, 'Sun:FA-FA': 0.00023760977818017154, 'Sun:FA-VB': 0.00014373924852874577, 'Sun:FA-DR': 0.00010853779990946108, 'Sun:FA-SV': 0.00010853779990946108, 'Sun:FA-KM': 7.33363512901764e-05, 'Sun:FA-PG': 6.746944318696228e-05, 'Sun:FA-LS': 5.2802172928927004e-05, 'Sun:FA-MS': 3.520144861928467e-05, 'Sun:FA-YT': 3.520144861928467e-05, 'Sun:FA-GZ': 1.7600724309642335e-05, 'Sun:FA-AA': 1.1733816206428223e-05, 'Sun:FA-NL': 5.866908103214111e-06, 'Sun:FA-NV': 5.866908103214111e-06, 'Sun:FA-NH': 0.0, 'Sun:VB-MV': 0.0008056496152105009, 'Sun:VB-CL': 0.0005465640561339961, 'Sun:VB-SP': 0.000541240380262561, 'Sun:VB-GR': 0.00048800362154821083, 'Sun:VB-CS': 0.00043654142145767224, 'Sun:VB-LH': 0.00042589406971480214, 'Sun:VB-LN': 0.00021649615210502445, 'Sun:VB-EO': 0.00016325939339067417, 'Sun:VB-FA': 0.00014373924852874577, 'Sun:VB-VB': 8.695337256677212e-05, 'Sun:VB-DR': 6.565866908103201e-05, 'Sun:VB-SV': 6.565866908103201e-05, 'Sun:VB-KM': 4.43639655952919e-05, 'Sun:VB-PG': 4.081484834766854e-05, 'Sun:VB-LS': 3.1942055228610165e-05, 'Sun:VB-MS': 2.1294703485740106e-05, 'Sun:VB-YT': 2.1294703485740106e-05, 'Sun:VB-GZ': 1.0647351742870053e-05, 'Sun:VB-AA': 7.098234495246703e-06, 'Sun:VB-NL': 3.5491172476233515e-06, 'Sun:VB-NV': 3.5491172476233515e-06, 'Sun:VB-NH': 0.0, 'Sun:DR-MV': 0.0006083476686283373, 'Sun:DR-CL': 0.00041271163422362974, 'Sun:DR-SP': 0.00040869171570846453, 'Sun:DR-GR': 0.00036849253055681224, 'Sun:DR-CS': 0.00032963331824354845, 'Sun:DR-LH': 0.000321593481213218, 'Sun:DR-LN': 0.00016347668628338582, 'Sun:DR-EO': 0.00012327750113173353, 'Sun:DR-FA': 0.00010853779990946108, 'Sun:DR-VB': 6.565866908103201e-05, 'Sun:DR-DR': 4.9578995020371116e-05, 'Sun:DR-SV': 4.9578995020371116e-05, 'Sun:DR-KM': 3.3499320959710204e-05, 'Sun:DR-PG': 3.081937528293338e-05, 'Sun:DR-LS': 2.4119511090991347e-05, 'Sun:DR-MS': 1.6079674060660898e-05, 'Sun:DR-YT': 1.6079674060660898e-05, 'Sun:DR-GZ': 8.039837030330449e-06, 'Sun:DR-AA': 5.359891353553633e-06, 'Sun:DR-NL': 2.6799456767768165e-06, 'Sun:DR-NV': 2.6799456767768165e-06, 'Sun:DR-NH': 0.0, 'Sun:SV-MV': 0.0006083476686283373, 'Sun:SV-CL': 0.00041271163422362974, 'Sun:SV-SP': 0.00040869171570846453, 'Sun:SV-GR': 0.00036849253055681224, 'Sun:SV-CS': 0.00032963331824354845, 'Sun:SV-LH': 0.000321593481213218, 'Sun:SV-LN': 0.00016347668628338582, 'Sun:SV-EO': 0.00012327750113173353, 'Sun:SV-FA': 0.00010853779990946108, 'Sun:SV-VB': 6.565866908103201e-05, 'Sun:SV-DR': 4.9578995020371116e-05, 'Sun:SV-SV': 4.9578995020371116e-05, 'Sun:SV-KM': 3.3499320959710204e-05, 'Sun:SV-PG': 3.081937528293338e-05, 'Sun:SV-LS': 2.4119511090991347e-05, 'Sun:SV-MS': 1.6079674060660898e-05, 'Sun:SV-YT': 1.6079674060660898e-05, 'Sun:SV-GZ': 8.039837030330449e-06, 'Sun:SV-AA': 5.359891353553633e-06, 'Sun:SV-NL': 2.6799456767768165e-06, 'Sun:SV-NV': 2.6799456767768165e-06, 'Sun:SV-NH': 0.0, 'Sun:KM-MV': 0.00041104572204617385, 'Sun:KM-CL': 0.00027885921231326333, 'Sun:KM-SP': 0.00027614305115436787, 'Sun:KM-GR': 0.0002489814395654137, 'Sun:KM-CS': 0.0002227252150294246, 'Sun:KM-LH': 0.0002172928927116338, 'Sun:KM-LN': 0.00011045722046174717, 'Sun:KM-EO': 8.329560887279292e-05, 'Sun:KM-FA': 7.33363512901764e-05, 'Sun:KM-VB': 4.43639655952919e-05, 'Sun:KM-DR': 3.3499320959710204e-05, 'Sun:KM-SV': 3.3499320959710204e-05, 'Sun:KM-KM': 2.2634676324128517e-05, 'Sun:KM-PG': 2.082390221819823e-05, 'Sun:KM-LS': 1.6296966953372533e-05, 'Sun:KM-MS': 1.0864644635581687e-05, 'Sun:KM-YT': 1.0864644635581687e-05, 'Sun:KM-GZ': 5.432322317790843e-06, 'Sun:KM-AA': 3.6215482118605622e-06, 'Sun:KM-NL': 1.8107741059302811e-06, 'Sun:KM-NV': 1.8107741059302811e-06, 'Sun:KM-NH': 0.0, 'Sun:PG-MV': 0.0003781620642824799, 'Sun:PG-CL': 0.0002565504753282023, 'Sun:PG-SP': 0.0002540516070620184, 'Sun:PG-GR': 0.00022906292440018054, 'Sun:PG-CS': 0.0002049071978270706, 'Sun:PG-LH': 0.00019990946129470305, 'Sun:PG-LN': 0.00010162064282480739, 'Sun:PG-EO': 7.663196016296948e-05, 'Sun:PG-FA': 6.746944318696228e-05, 'Sun:PG-VB': 4.081484834766854e-05, 'Sun:PG-DR': 3.081937528293338e-05, 'Sun:PG-SV': 3.081937528293338e-05, 'Sun:PG-KM': 2.082390221819823e-05, 'Sun:PG-PG': 1.915799004074237e-05, 'Sun:PG-LS': 1.4993209597102725e-05, 'Sun:PG-MS': 9.995473064735151e-06, 'Sun:PG-YT': 9.995473064735151e-06, 'Sun:PG-GZ': 4.9977365323675754e-06, 'Sun:PG-AA': 3.3318243549117175e-06, 'Sun:PG-NL': 1.6659121774558588e-06, 'Sun:PG-NV': 1.6659121774558588e-06, 'Sun:PG-NH': 0.0, 'Sun:LS-MV': 0.0002959529198732452, 'Sun:LS-CL': 0.00020077863286554955, 'Sun:LS-SP': 0.00019882299683114487, 'Sun:LS-GR': 0.00017926663648709784, 'Sun:LS-CS': 0.00016036215482118573, 'Sun:LS-LH': 0.0001564508827523763, 'Sun:LS-LN': 7.952919873245794e-05, 'Sun:LS-EO': 5.99728383884109e-05, 'Sun:LS-FA': 5.2802172928927004e-05, 'Sun:LS-VB': 3.1942055228610165e-05, 'Sun:LS-DR': 2.4119511090991347e-05, 'Sun:LS-SV': 2.4119511090991347e-05, 'Sun:LS-KM': 1.6296966953372533e-05, 'Sun:LS-PG': 1.4993209597102725e-05, 'Sun:LS-LS': 1.173381620642822e-05, 'Sun:LS-MS': 7.822544137618814e-06, 'Sun:LS-YT': 7.822544137618814e-06, 'Sun:LS-GZ': 3.911272068809407e-06, 'Sun:LS-AA': 2.607514712539605e-06, 'Sun:LS-NL': 1.3037573562698025e-06, 'Sun:LS-NV': 1.3037573562698025e-06, 'Sun:LS-NH': 0.0, 'Sun:MS-MV': 0.00019730194658216344, 'Sun:MS-CL': 0.00013385242191036638, 'Sun:MS-SP': 0.00013254866455409656, 'Sun:MS-GR': 0.00011951109099139855, 'Sun:MS-CS': 0.00010690810321412381, 'Sun:MS-LH': 0.00010430058850158419, 'Sun:MS-LN': 5.301946582163864e-05, 'Sun:MS-EO': 3.9981892258940603e-05, 'Sun:MS-FA': 3.520144861928467e-05, 'Sun:MS-VB': 2.1294703485740106e-05, 'Sun:MS-DR': 1.6079674060660898e-05, 'Sun:MS-SV': 1.6079674060660898e-05, 'Sun:MS-KM': 1.0864644635581687e-05, 'Sun:MS-PG': 9.995473064735151e-06, 'Sun:MS-LS': 7.822544137618814e-06, 'Sun:MS-MS': 5.21502942507921e-06, 'Sun:MS-YT': 5.21502942507921e-06, 'Sun:MS-GZ': 2.607514712539605e-06, 'Sun:MS-AA': 1.73834314169307e-06, 'Sun:MS-NL': 8.69171570846535e-07, 'Sun:MS-NV': 8.69171570846535e-07, 'Sun:MS-NH': 0.0, 'Sun:YT-MV': 0.00019730194658216344, 'Sun:YT-CL': 0.00013385242191036638, 'Sun:YT-SP': 0.00013254866455409656, 'Sun:YT-GR': 0.00011951109099139855, 'Sun:YT-CS': 0.00010690810321412381, 'Sun:YT-LH': 0.00010430058850158419, 'Sun:YT-LN': 5.301946582163864e-05, 'Sun:YT-EO': 3.9981892258940603e-05, 'Sun:YT-FA': 3.520144861928467e-05, 'Sun:YT-VB': 2.1294703485740106e-05, 'Sun:YT-DR': 1.6079674060660898e-05, 'Sun:YT-SV': 1.6079674060660898e-05, 'Sun:YT-KM': 1.0864644635581687e-05, 'Sun:YT-PG': 9.995473064735151e-06, 'Sun:YT-LS': 7.822544137618814e-06, 'Sun:YT-MS': 5.21502942507921e-06, 'Sun:YT-YT': 5.21502942507921e-06, 'Sun:YT-GZ': 2.607514712539605e-06, 'Sun:YT-AA': 1.73834314169307e-06, 'Sun:YT-NL': 8.69171570846535e-07, 'Sun:YT-NV': 8.69171570846535e-07, 'Sun:YT-NH': 0.0, 'Sun:GZ-MV': 9.865097329108172e-05, 'Sun:GZ-CL': 6.692621095518319e-05, 'Sun:GZ-SP': 6.627433227704828e-05, 'Sun:GZ-GR': 5.975554549569928e-05, 'Sun:GZ-CS': 5.3454051607061906e-05, 'Sun:GZ-LH': 5.2150294250792095e-05, 'Sun:GZ-LN': 2.650973291081932e-05, 'Sun:GZ-EO': 1.9990946129470302e-05, 'Sun:GZ-FA': 1.7600724309642335e-05, 'Sun:GZ-VB': 1.0647351742870053e-05, 'Sun:GZ-DR': 8.039837030330449e-06, 'Sun:GZ-SV': 8.039837030330449e-06, 'Sun:GZ-KM': 5.432322317790843e-06, 'Sun:GZ-PG': 4.9977365323675754e-06, 'Sun:GZ-LS': 3.911272068809407e-06, 'Sun:GZ-MS': 2.607514712539605e-06, 'Sun:GZ-YT': 2.607514712539605e-06, 'Sun:GZ-GZ': 1.3037573562698025e-06, 'Sun:GZ-AA': 8.69171570846535e-07, 'Sun:GZ-NL': 4.345857854232675e-07, 'Sun:GZ-NV': 4.345857854232675e-07, 'Sun:GZ-NH': 0.0, 'Sun:AA-MV': 6.576731552738781e-05, 'Sun:AA-CL': 4.461747397012214e-05, 'Sun:AA-SP': 4.418288818469886e-05, 'Sun:AA-GR': 3.983703033046619e-05, 'Sun:AA-CS': 3.563603440470794e-05, 'Sun:AA-LH': 3.47668628338614e-05, 'Sun:AA-LN': 1.7673155273879544e-05, 'Sun:AA-EO': 1.332729741964687e-05, 'Sun:AA-FA': 1.1733816206428223e-05, 'Sun:AA-VB': 7.098234495246703e-06, 'Sun:AA-DR': 5.359891353553633e-06, 'Sun:AA-SV': 5.359891353553633e-06, 'Sun:AA-KM': 3.6215482118605622e-06, 'Sun:AA-PG': 3.3318243549117175e-06, 'Sun:AA-LS': 2.607514712539605e-06, 'Sun:AA-MS': 1.73834314169307e-06, 'Sun:AA-YT': 1.73834314169307e-06, 'Sun:AA-GZ': 8.69171570846535e-07, 'Sun:AA-AA': 5.794477138976899e-07, 'Sun:AA-NL': 2.8972385694884497e-07, 'Sun:AA-NV': 2.8972385694884497e-07, 'Sun:AA-NH': 0.0, 'Sun:NL-MV': 3.2883657763693905e-05, 'Sun:NL-CL': 2.230873698506107e-05, 'Sun:NL-SP': 2.209144409234943e-05, 'Sun:NL-GR': 1.9918515165233096e-05, 'Sun:NL-CS': 1.781801720235397e-05, 'Sun:NL-LH': 1.73834314169307e-05, 'Sun:NL-LN': 8.836577636939772e-06, 'Sun:NL-EO': 6.663648709823435e-06, 'Sun:NL-FA': 5.866908103214111e-06, 'Sun:NL-VB': 3.5491172476233515e-06, 'Sun:NL-DR': 2.6799456767768165e-06, 'Sun:NL-SV': 2.6799456767768165e-06, 'Sun:NL-KM': 1.8107741059302811e-06, 'Sun:NL-PG': 1.6659121774558588e-06, 'Sun:NL-LS': 1.3037573562698025e-06, 'Sun:NL-MS': 8.69171570846535e-07, 'Sun:NL-YT': 8.69171570846535e-07, 'Sun:NL-GZ': 4.345857854232675e-07, 'Sun:NL-AA': 2.8972385694884497e-07, 'Sun:NL-NL': 1.4486192847442249e-07, 'Sun:NL-NV': 1.4486192847442249e-07, 'Sun:NL-NH': 0.0, 'Sun:NV-MV': 3.2883657763693905e-05, 'Sun:NV-CL': 2.230873698506107e-05, 'Sun:NV-SP': 2.209144409234943e-05, 'Sun:NV-GR': 1.9918515165233096e-05, 'Sun:NV-CS': 1.781801720235397e-05, 'Sun:NV-LH': 1.73834314169307e-05, 'Sun:NV-LN': 8.836577636939772e-06, 'Sun:NV-EO': 6.663648709823435e-06, 'Sun:NV-FA': 5.866908103214111e-06, 'Sun:NV-VB': 3.5491172476233515e-06, 'Sun:NV-DR': 2.6799456767768165e-06, 'Sun:NV-SV': 2.6799456767768165e-06, 'Sun:NV-KM': 1.8107741059302811e-06, 'Sun:NV-PG': 1.6659121774558588e-06, 'Sun:NV-LS': 1.3037573562698025e-06, 'Sun:NV-MS': 8.69171570846535e-07, 'Sun:NV-YT': 8.69171570846535e-07, 'Sun:NV-GZ': 4.345857854232675e-07, 'Sun:NV-AA': 2.8972385694884497e-07, 'Sun:NV-NL': 1.4486192847442249e-07, 'Sun:NV-NV': 1.4486192847442249e-07, 'Sun:NV-NH': 0.0, 'Sun:NH-MV': 0.0, 'Sun:NH-CL': 0.0, 'Sun:NH-SP': 0.0, 'Sun:NH-GR': 0.0, 'Sun:NH-CS': 0.0, 'Sun:NH-LH': 0.0, 'Sun:NH-LN': 0.0, 'Sun:NH-EO': 0.0, 'Sun:NH-FA': 0.0, 'Sun:NH-VB': 0.0, 'Sun:NH-DR': 0.0, 'Sun:NH-SV': 0.0, 'Sun:NH-KM': 0.0, 'Sun:NH-PG': 0.0, 'Sun:NH-LS': 0.0, 'Sun:NH-MS': 0.0, 'Sun:NH-YT': 0.0, 'Sun:NH-GZ': 0.0, 'Sun:NH-AA': 0.0, 'Sun:NH-NL': 0.0, 'Sun:NH-NV': 0.0, 'Sun:NH-NH': 0.0, 'Cloud:MV-MV': 0.007464590312358517, 'Cloud:MV-CL': 0.0050640832956088625, 'Cloud:MV-SP': 0.005014757808963321, 'Cloud:MV-GR': 0.004521502942507913, 'Cloud:MV-CS': 0.004044689904934351, 'Cloud:MV-LH': 0.003946038931643268, 'Cloud:MV-LN': 0.0020059031235853285, 'Cloud:MV-EO': 0.0015126482571299197, 'Cloud:MV-FA': 0.0013317881394296033, 'Cloud:MV-VB': 0.0008056496152105009, 'Cloud:MV-DR': 0.0006083476686283373, 'Cloud:MV-SV': 0.0006083476686283373, 'Cloud:MV-KM': 0.00041104572204617385, 'Cloud:MV-PG': 0.0003781620642824799, 'Cloud:MV-LS': 0.0002959529198732452, 'Cloud:MV-MS': 0.00019730194658216344, 'Cloud:MV-YT': 0.00019730194658216344, 'Cloud:MV-GZ': 9.865097329108172e-05, 'Cloud:MV-AA': 6.576731552738781e-05, 'Cloud:MV-NL': 3.2883657763693905e-05, 'Cloud:MV-NV': 3.2883657763693905e-05, 'Cloud:MV-NH': 0.0, 'Cloud:CL-MV': 0.0050640832956088625, 'Cloud:CL-CL': 0.0034355454956994046, 'Cloud:CL-SP': 0.003402082390221812, 'Cloud:CL-GR': 0.0030674513354458964, 'Cloud:CL-CS': 0.0027439746491625112, 'Cloud:CL-LH': 0.0026770484382073276, 'Cloud:CL-LN': 0.001360832956088725, 'Cloud:CL-EO': 0.0010262019013128091, 'Cloud:CL-FA': 0.0009035038478949733, 'Cloud:CL-VB': 0.0005465640561339961, 'Cloud:CL-DR': 0.00041271163422362974, 'Cloud:CL-SV': 0.00041271163422362974, 'Cloud:CL-KM': 0.00027885921231326333, 'Cloud:CL-PG': 0.0002565504753282023, 'Cloud:CL-LS': 0.00020077863286554955, 'Cloud:CL-MS': 0.00013385242191036638, 'Cloud:CL-YT': 0.00013385242191036638, 'Cloud:CL-GZ': 6.692621095518319e-05, 'Cloud:CL-AA': 4.461747397012214e-05, 'Cloud:CL-NL': 2.230873698506107e-05, 'Cloud:CL-NV': 2.230873698506107e-05, 'Cloud:CL-NH': 0.0, 'Cloud:SP-MV': 0.005014757808963321, 'Cloud:SP-CL': 0.003402082390221812, 'Cloud:SP-SP': 0.0033689452240832883, 'Cloud:SP-GR': 0.0030375735626980466, 'Cloud:SP-CS': 0.00271724762335898, 'Cloud:SP-LH': 0.002650973291081931, 'Cloud:SP-LN': 0.0013475780896333154, 'Cloud:SP-EO': 0.0010162064282480737, 'Cloud:SP-FA': 0.0008947034857401522, 'Cloud:SP-VB': 0.000541240380262561, 'Cloud:SP-DR': 0.00040869171570846453, 'Cloud:SP-SV': 0.00040869171570846453, 'Cloud:SP-KM': 0.00027614305115436787, 'Cloud:SP-PG': 0.0002540516070620184, 'Cloud:SP-LS': 0.00019882299683114487, 'Cloud:SP-MS': 0.00013254866455409656, 'Cloud:SP-YT': 0.00013254866455409656, 'Cloud:SP-GZ': 6.627433227704828e-05, 'Cloud:SP-AA': 4.418288818469886e-05, 'Cloud:SP-NL': 2.209144409234943e-05, 'Cloud:SP-NV': 2.209144409234943e-05, 'Cloud:SP-NH': 0.0, 'Cloud:GR-MV': 0.004521502942507913, 'Cloud:GR-CL': 0.0030674513354458964, 'Cloud:GR-SP': 0.0030375735626980466, 'Cloud:GR-GR': 0.0027387958352195507, 'Cloud:GR-CS': 0.002449977365323671, 'Cloud:GR-LH': 0.002390221819827971, 'Cloud:GR-LN': 0.0012150294250792186, 'Cloud:GR-EO': 0.0009162516976007222, 'Cloud:GR-FA': 0.0008066998641919404, 'Cloud:GR-VB': 0.00048800362154821083, 'Cloud:GR-DR': 0.00036849253055681224, 'Cloud:GR-SV': 0.00036849253055681224, 'Cloud:GR-KM': 0.0002489814395654137, 'Cloud:GR-PG': 0.00022906292440018054, 'Cloud:GR-LS': 0.00017926663648709784, 'Cloud:GR-MS': 0.00011951109099139855, 'Cloud:GR-YT': 0.00011951109099139855, 'Cloud:GR-GZ': 5.975554549569928e-05, 'Cloud:GR-AA': 3.983703033046619e-05, 'Cloud:GR-NL': 1.9918515165233096e-05, 'Cloud:GR-NV': 1.9918515165233096e-05, 'Cloud:GR-NH': 0.0, 'Cloud:CS-MV': 0.004044689904934351, 'Cloud:CS-CL': 0.0027439746491625112, 'Cloud:CS-SP': 0.00271724762335898, 'Cloud:CS-GR': 0.002449977365323671, 'Cloud:CS-CS': 0.0021916161158895384, 'Cloud:CS-LH': 0.002138162064282476, 'Cloud:CS-LN': 0.001086899049343592, 'Cloud:CS-EO': 0.0008196287913082824, 'Cloud:CS-FA': 0.0007216296966953359, 'Cloud:CS-VB': 0.00043654142145767224, 'Cloud:CS-DR': 0.00032963331824354845, 'Cloud:CS-SV': 0.00032963331824354845, 'Cloud:CS-KM': 0.0002227252150294246, 'Cloud:CS-PG': 0.0002049071978270706, 'Cloud:CS-LS': 0.00016036215482118573, 'Cloud:CS-MS': 0.00010690810321412381, 'Cloud:CS-YT': 0.00010690810321412381, 'Cloud:CS-GZ': 5.3454051607061906e-05, 'Cloud:CS-AA': 3.563603440470794e-05, 'Cloud:CS-NL': 1.781801720235397e-05, 'Cloud:CS-NV': 1.781801720235397e-05, 'Cloud:CS-NH': 0.0, 'Cloud:LH-MV': 0.003946038931643268, 'Cloud:LH-CL': 0.0026770484382073276, 'Cloud:LH-SP': 0.002650973291081931, 'Cloud:LH-GR': 0.002390221819827971, 'Cloud:LH-CS': 0.002138162064282476, 'Cloud:LH-LH': 0.002086011770031684, 'Cloud:LH-LN': 0.0010603893164327727, 'Cloud:LH-EO': 0.0007996378451788122, 'Cloud:LH-FA': 0.0007040289723856934, 'Cloud:LH-VB': 0.00042589406971480214, 'Cloud:LH-DR': 0.000321593481213218, 'Cloud:LH-SV': 0.000321593481213218, 'Cloud:LH-KM': 0.0002172928927116338, 'Cloud:LH-PG': 0.00019990946129470305, 'Cloud:LH-LS': 0.0001564508827523763, 'Cloud:LH-MS': 0.00010430058850158419, 'Cloud:LH-YT': 0.00010430058850158419, 'Cloud:LH-GZ': 5.2150294250792095e-05, 'Cloud:LH-AA': 3.47668628338614e-05, 'Cloud:LH-NL': 1.73834314169307e-05, 'Cloud:LH-NV': 1.73834314169307e-05, 'Cloud:LH-NH': 0.0, 'Cloud:LN-MV': 0.0020059031235853285, 'Cloud:LN-CL': 0.001360832956088725, 'Cloud:LN-SP': 0.0013475780896333154, 'Cloud:LN-GR': 0.0012150294250792186, 'Cloud:LN-CS': 0.001086899049343592, 'Cloud:LN-LH': 0.0010603893164327727, 'Cloud:LN-LN': 0.0005390312358533261, 'Cloud:LN-EO': 0.00040648257129922955, 'Cloud:LN-FA': 0.00035788139429606086, 'Cloud:LN-VB': 0.00021649615210502445, 'Cloud:LN-DR': 0.00016347668628338582, 'Cloud:LN-SV': 0.00016347668628338582, 'Cloud:LN-KM': 0.00011045722046174717, 'Cloud:LN-PG': 0.00010162064282480739, 'Cloud:LN-LS': 7.952919873245794e-05, 'Cloud:LN-MS': 5.301946582163864e-05, 'Cloud:LN-YT': 5.301946582163864e-05, 'Cloud:LN-GZ': 2.650973291081932e-05, 'Cloud:LN-AA': 1.7673155273879544e-05, 'Cloud:LN-NL': 8.836577636939772e-06, 'Cloud:LN-NV': 8.836577636939772e-06, 'Cloud:LN-NH': 0.0, 'Cloud:EO-MV': 0.0015126482571299197, 'Cloud:EO-CL': 0.0010262019013128091, 'Cloud:EO-SP': 0.0010162064282480737, 'Cloud:EO-GR': 0.0009162516976007222, 'Cloud:EO-CS': 0.0008196287913082824, 'Cloud:EO-LH': 0.0007996378451788122, 'Cloud:EO-LN': 0.00040648257129922955, 'Cloud:EO-EO': 0.00030652784065187793, 'Cloud:EO-FA': 0.0002698777727478491, 'Cloud:EO-VB': 0.00016325939339067417, 'Cloud:EO-DR': 0.00012327750113173353, 'Cloud:EO-SV': 0.00012327750113173353, 'Cloud:EO-KM': 8.329560887279292e-05, 'Cloud:EO-PG': 7.663196016296948e-05, 'Cloud:EO-LS': 5.99728383884109e-05, 'Cloud:EO-MS': 3.9981892258940603e-05, 'Cloud:EO-YT': 3.9981892258940603e-05, 'Cloud:EO-GZ': 1.9990946129470302e-05, 'Cloud:EO-AA': 1.332729741964687e-05, 'Cloud:EO-NL': 6.663648709823435e-06, 'Cloud:EO-NV': 6.663648709823435e-06, 'Cloud:EO-NH': 0.0, 'Cloud:FA-MV': 0.0013317881394296033, 'Cloud:FA-CL': 0.0009035038478949733, 'Cloud:FA-SP': 0.0008947034857401522, 'Cloud:FA-GR': 0.0008066998641919404, 'Cloud:FA-CS': 0.0007216296966953359, 'Cloud:FA-LH': 0.0007040289723856934, 'Cloud:FA-LN': 0.00035788139429606086, 'Cloud:FA-EO': 0.0002698777727478491, 'Cloud:FA-FA': 0.00023760977818017154, 'Cloud:FA-VB': 0.00014373924852874577, 'Cloud:FA-DR': 0.00010853779990946108, 'Cloud:FA-SV': 0.00010853779990946108, 'Cloud:FA-KM': 7.33363512901764e-05, 'Cloud:FA-PG': 6.746944318696228e-05, 'Cloud:FA-LS': 5.2802172928927004e-05, 'Cloud:FA-MS': 3.520144861928467e-05, 'Cloud:FA-YT': 3.520144861928467e-05, 'Cloud:FA-GZ': 1.7600724309642335e-05, 'Cloud:FA-AA': 1.1733816206428223e-05, 'Cloud:FA-NL': 5.866908103214111e-06, 'Cloud:FA-NV': 5.866908103214111e-06, 'Cloud:FA-NH': 0.0, 'Cloud:VB-MV': 0.0008056496152105009, 'Cloud:VB-CL': 0.0005465640561339961, 'Cloud:VB-SP': 0.000541240380262561, 'Cloud:VB-GR': 0.00048800362154821083, 'Cloud:VB-CS': 0.00043654142145767224, 'Cloud:VB-LH': 0.00042589406971480214, 'Cloud:VB-LN': 0.00021649615210502445, 'Cloud:VB-EO': 0.00016325939339067417, 'Cloud:VB-FA': 0.00014373924852874577, 'Cloud:VB-VB': 8.695337256677212e-05, 'Cloud:VB-DR': 6.565866908103201e-05, 'Cloud:VB-SV': 6.565866908103201e-05, 'Cloud:VB-KM': 4.43639655952919e-05, 'Cloud:VB-PG': 4.081484834766854e-05, 'Cloud:VB-LS': 3.1942055228610165e-05, 'Cloud:VB-MS': 2.1294703485740106e-05, 'Cloud:VB-YT': 2.1294703485740106e-05, 'Cloud:VB-GZ': 1.0647351742870053e-05, 'Cloud:VB-AA': 7.098234495246703e-06, 'Cloud:VB-NL': 3.5491172476233515e-06, 'Cloud:VB-NV': 3.5491172476233515e-06, 'Cloud:VB-NH': 0.0, 'Cloud:DR-MV': 0.0006083476686283373, 'Cloud:DR-CL': 0.00041271163422362974, 'Cloud:DR-SP': 0.00040869171570846453, 'Cloud:DR-GR': 0.00036849253055681224, 'Cloud:DR-CS': 0.00032963331824354845, 'Cloud:DR-LH': 0.000321593481213218, 'Cloud:DR-LN': 0.00016347668628338582, 'Cloud:DR-EO': 0.00012327750113173353, 'Cloud:DR-FA': 0.00010853779990946108, 'Cloud:DR-VB': 6.565866908103201e-05, 'Cloud:DR-DR': 4.9578995020371116e-05, 'Cloud:DR-SV': 4.9578995020371116e-05, 'Cloud:DR-KM': 3.3499320959710204e-05, 'Cloud:DR-PG': 3.081937528293338e-05, 'Cloud:DR-LS': 2.4119511090991347e-05, 'Cloud:DR-MS': 1.6079674060660898e-05, 'Cloud:DR-YT': 1.6079674060660898e-05, 'Cloud:DR-GZ': 8.039837030330449e-06, 'Cloud:DR-AA': 5.359891353553633e-06, 'Cloud:DR-NL': 2.6799456767768165e-06, 'Cloud:DR-NV': 2.6799456767768165e-06, 'Cloud:DR-NH': 0.0, 'Cloud:SV-MV': 0.0006083476686283373, 'Cloud:SV-CL': 0.00041271163422362974, 'Cloud:SV-SP': 0.00040869171570846453, 'Cloud:SV-GR': 0.00036849253055681224, 'Cloud:SV-CS': 0.00032963331824354845, 'Cloud:SV-LH': 0.000321593481213218, 'Cloud:SV-LN': 0.00016347668628338582, 'Cloud:SV-EO': 0.00012327750113173353, 'Cloud:SV-FA': 0.00010853779990946108, 'Cloud:SV-VB': 6.565866908103201e-05, 'Cloud:SV-DR': 4.9578995020371116e-05, 'Cloud:SV-SV': 4.9578995020371116e-05, 'Cloud:SV-KM': 3.3499320959710204e-05, 'Cloud:SV-PG': 3.081937528293338e-05, 'Cloud:SV-LS': 2.4119511090991347e-05, 'Cloud:SV-MS': 1.6079674060660898e-05, 'Cloud:SV-YT': 1.6079674060660898e-05, 'Cloud:SV-GZ': 8.039837030330449e-06, 'Cloud:SV-AA': 5.359891353553633e-06, 'Cloud:SV-NL': 2.6799456767768165e-06, 'Cloud:SV-NV': 2.6799456767768165e-06, 'Cloud:SV-NH': 0.0, 'Cloud:KM-MV': 0.00041104572204617385, 'Cloud:KM-CL': 0.00027885921231326333, 'Cloud:KM-SP': 0.00027614305115436787, 'Cloud:KM-GR': 0.0002489814395654137, 'Cloud:KM-CS': 0.0002227252150294246, 'Cloud:KM-LH': 0.0002172928927116338, 'Cloud:KM-LN': 0.00011045722046174717, 'Cloud:KM-EO': 8.329560887279292e-05, 'Cloud:KM-FA': 7.33363512901764e-05, 'Cloud:KM-VB': 4.43639655952919e-05, 'Cloud:KM-DR': 3.3499320959710204e-05, 'Cloud:KM-SV': 3.3499320959710204e-05, 'Cloud:KM-KM': 2.2634676324128517e-05, 'Cloud:KM-PG': 2.082390221819823e-05, 'Cloud:KM-LS': 1.6296966953372533e-05, 'Cloud:KM-MS': 1.0864644635581687e-05, 'Cloud:KM-YT': 1.0864644635581687e-05, 'Cloud:KM-GZ': 5.432322317790843e-06, 'Cloud:KM-AA': 3.6215482118605622e-06, 'Cloud:KM-NL': 1.8107741059302811e-06, 'Cloud:KM-NV': 1.8107741059302811e-06, 'Cloud:KM-NH': 0.0, 'Cloud:PG-MV': 0.0003781620642824799, 'Cloud:PG-CL': 0.0002565504753282023, 'Cloud:PG-SP': 0.0002540516070620184, 'Cloud:PG-GR': 0.00022906292440018054, 'Cloud:PG-CS': 0.0002049071978270706, 'Cloud:PG-LH': 0.00019990946129470305, 'Cloud:PG-LN': 0.00010162064282480739, 'Cloud:PG-EO': 7.663196016296948e-05, 'Cloud:PG-FA': 6.746944318696228e-05, 'Cloud:PG-VB': 4.081484834766854e-05, 'Cloud:PG-DR': 3.081937528293338e-05, 'Cloud:PG-SV': 3.081937528293338e-05, 'Cloud:PG-KM': 2.082390221819823e-05, 'Cloud:PG-PG': 1.915799004074237e-05, 'Cloud:PG-LS': 1.4993209597102725e-05, 'Cloud:PG-MS': 9.995473064735151e-06, 'Cloud:PG-YT': 9.995473064735151e-06, 'Cloud:PG-GZ': 4.9977365323675754e-06, 'Cloud:PG-AA': 3.3318243549117175e-06, 'Cloud:PG-NL': 1.6659121774558588e-06, 'Cloud:PG-NV': 1.6659121774558588e-06, 'Cloud:PG-NH': 0.0, 'Cloud:LS-MV': 0.0002959529198732452, 'Cloud:LS-CL': 0.00020077863286554955, 'Cloud:LS-SP': 0.00019882299683114487, 'Cloud:LS-GR': 0.00017926663648709784, 'Cloud:LS-CS': 0.00016036215482118573, 'Cloud:LS-LH': 0.0001564508827523763, 'Cloud:LS-LN': 7.952919873245794e-05, 'Cloud:LS-EO': 5.99728383884109e-05, 'Cloud:LS-FA': 5.2802172928927004e-05, 'Cloud:LS-VB': 3.1942055228610165e-05, 'Cloud:LS-DR': 2.4119511090991347e-05, 'Cloud:LS-SV': 2.4119511090991347e-05, 'Cloud:LS-KM': 1.6296966953372533e-05, 'Cloud:LS-PG': 1.4993209597102725e-05, 'Cloud:LS-LS': 1.173381620642822e-05, 'Cloud:LS-MS': 7.822544137618814e-06, 'Cloud:LS-YT': 7.822544137618814e-06, 'Cloud:LS-GZ': 3.911272068809407e-06, 'Cloud:LS-AA': 2.607514712539605e-06, 'Cloud:LS-NL': 1.3037573562698025e-06, 'Cloud:LS-NV': 1.3037573562698025e-06, 'Cloud:LS-NH': 0.0, 'Cloud:MS-MV': 0.00019730194658216344, 'Cloud:MS-CL': 0.00013385242191036638, 'Cloud:MS-SP': 0.00013254866455409656, 'Cloud:MS-GR': 0.00011951109099139855, 'Cloud:MS-CS': 0.00010690810321412381, 'Cloud:MS-LH': 0.00010430058850158419, 'Cloud:MS-LN': 5.301946582163864e-05, 'Cloud:MS-EO': 3.9981892258940603e-05, 'Cloud:MS-FA': 3.520144861928467e-05, 'Cloud:MS-VB': 2.1294703485740106e-05, 'Cloud:MS-DR': 1.6079674060660898e-05, 'Cloud:MS-SV': 1.6079674060660898e-05, 'Cloud:MS-KM': 1.0864644635581687e-05, 'Cloud:MS-PG': 9.995473064735151e-06, 'Cloud:MS-LS': 7.822544137618814e-06, 'Cloud:MS-MS': 5.21502942507921e-06, 'Cloud:MS-YT': 5.21502942507921e-06, 'Cloud:MS-GZ': 2.607514712539605e-06, 'Cloud:MS-AA': 1.73834314169307e-06, 'Cloud:MS-NL': 8.69171570846535e-07, 'Cloud:MS-NV': 8.69171570846535e-07, 'Cloud:MS-NH': 0.0, 'Cloud:YT-MV': 0.00019730194658216344, 'Cloud:YT-CL': 0.00013385242191036638, 'Cloud:YT-SP': 0.00013254866455409656, 'Cloud:YT-GR': 0.00011951109099139855, 'Cloud:YT-CS': 0.00010690810321412381, 'Cloud:YT-LH': 0.00010430058850158419, 'Cloud:YT-LN': 5.301946582163864e-05, 'Cloud:YT-EO': 3.9981892258940603e-05, 'Cloud:YT-FA': 3.520144861928467e-05, 'Cloud:YT-VB': 2.1294703485740106e-05, 'Cloud:YT-DR': 1.6079674060660898e-05, 'Cloud:YT-SV': 1.6079674060660898e-05, 'Cloud:YT-KM': 1.0864644635581687e-05, 'Cloud:YT-PG': 9.995473064735151e-06, 'Cloud:YT-LS': 7.822544137618814e-06, 'Cloud:YT-MS': 5.21502942507921e-06, 'Cloud:YT-YT': 5.21502942507921e-06, 'Cloud:YT-GZ': 2.607514712539605e-06, 'Cloud:YT-AA': 1.73834314169307e-06, 'Cloud:YT-NL': 8.69171570846535e-07, 'Cloud:YT-NV': 8.69171570846535e-07, 'Cloud:YT-NH': 0.0, 'Cloud:GZ-MV': 9.865097329108172e-05, 'Cloud:GZ-CL': 6.692621095518319e-05, 'Cloud:GZ-SP': 6.627433227704828e-05, 'Cloud:GZ-GR': 5.975554549569928e-05, 'Cloud:GZ-CS': 5.3454051607061906e-05, 'Cloud:GZ-LH': 5.2150294250792095e-05, 'Cloud:GZ-LN': 2.650973291081932e-05, 'Cloud:GZ-EO': 1.9990946129470302e-05, 'Cloud:GZ-FA': 1.7600724309642335e-05, 'Cloud:GZ-VB': 1.0647351742870053e-05, 'Cloud:GZ-DR': 8.039837030330449e-06, 'Cloud:GZ-SV': 8.039837030330449e-06, 'Cloud:GZ-KM': 5.432322317790843e-06, 'Cloud:GZ-PG': 4.9977365323675754e-06, 'Cloud:GZ-LS': 3.911272068809407e-06, 'Cloud:GZ-MS': 2.607514712539605e-06, 'Cloud:GZ-YT': 2.607514712539605e-06, 'Cloud:GZ-GZ': 1.3037573562698025e-06, 'Cloud:GZ-AA': 8.69171570846535e-07, 'Cloud:GZ-NL': 4.345857854232675e-07, 'Cloud:GZ-NV': 4.345857854232675e-07, 'Cloud:GZ-NH': 0.0, 'Cloud:AA-MV': 6.576731552738781e-05, 'Cloud:AA-CL': 4.461747397012214e-05, 'Cloud:AA-SP': 4.418288818469886e-05, 'Cloud:AA-GR': 3.983703033046619e-05, 'Cloud:AA-CS': 3.563603440470794e-05, 'Cloud:AA-LH': 3.47668628338614e-05, 'Cloud:AA-LN': 1.7673155273879544e-05, 'Cloud:AA-EO': 1.332729741964687e-05, 'Cloud:AA-FA': 1.1733816206428223e-05, 'Cloud:AA-VB': 7.098234495246703e-06, 'Cloud:AA-DR': 5.359891353553633e-06, 'Cloud:AA-SV': 5.359891353553633e-06, 'Cloud:AA-KM': 3.6215482118605622e-06, 'Cloud:AA-PG': 3.3318243549117175e-06, 'Cloud:AA-LS': 2.607514712539605e-06, 'Cloud:AA-MS': 1.73834314169307e-06, 'Cloud:AA-YT': 1.73834314169307e-06, 'Cloud:AA-GZ': 8.69171570846535e-07, 'Cloud:AA-AA': 5.794477138976899e-07, 'Cloud:AA-NL': 2.8972385694884497e-07, 'Cloud:AA-NV': 2.8972385694884497e-07, 'Cloud:AA-NH': 0.0, 'Cloud:NL-MV': 3.2883657763693905e-05, 'Cloud:NL-CL': 2.230873698506107e-05, 'Cloud:NL-SP': 2.209144409234943e-05, 'Cloud:NL-GR': 1.9918515165233096e-05, 'Cloud:NL-CS': 1.781801720235397e-05, 'Cloud:NL-LH': 1.73834314169307e-05, 'Cloud:NL-LN': 8.836577636939772e-06, 'Cloud:NL-EO': 6.663648709823435e-06, 'Cloud:NL-FA': 5.866908103214111e-06, 'Cloud:NL-VB': 3.5491172476233515e-06, 'Cloud:NL-DR': 2.6799456767768165e-06, 'Cloud:NL-SV': 2.6799456767768165e-06, 'Cloud:NL-KM': 1.8107741059302811e-06, 'Cloud:NL-PG': 1.6659121774558588e-06, 'Cloud:NL-LS': 1.3037573562698025e-06, 'Cloud:NL-MS': 8.69171570846535e-07, 'Cloud:NL-YT': 8.69171570846535e-07, 'Cloud:NL-GZ': 4.345857854232675e-07, 'Cloud:NL-AA': 2.8972385694884497e-07, 'Cloud:NL-NL': 1.4486192847442249e-07, 'Cloud:NL-NV': 1.4486192847442249e-07, 'Cloud:NL-NH': 0.0, 'Cloud:NV-MV': 3.2883657763693905e-05, 'Cloud:NV-CL': 2.230873698506107e-05, 'Cloud:NV-SP': 2.209144409234943e-05, 'Cloud:NV-GR': 1.9918515165233096e-05, 'Cloud:NV-CS': 1.781801720235397e-05, 'Cloud:NV-LH': 1.73834314169307e-05, 'Cloud:NV-LN': 8.836577636939772e-06, 'Cloud:NV-EO': 6.663648709823435e-06, 'Cloud:NV-FA': 5.866908103214111e-06, 'Cloud:NV-VB': 3.5491172476233515e-06, 'Cloud:NV-DR': 2.6799456767768165e-06, 'Cloud:NV-SV': 2.6799456767768165e-06, 'Cloud:NV-KM': 1.8107741059302811e-06, 'Cloud:NV-PG': 1.6659121774558588e-06, 'Cloud:NV-LS': 1.3037573562698025e-06, 'Cloud:NV-MS': 8.69171570846535e-07, 'Cloud:NV-YT': 8.69171570846535e-07, 'Cloud:NV-GZ': 4.345857854232675e-07, 'Cloud:NV-AA': 2.8972385694884497e-07, 'Cloud:NV-NL': 1.4486192847442249e-07, 'Cloud:NV-NV': 1.4486192847442249e-07, 'Cloud:NV-NH': 0.0, 'Cloud:NH-MV': 0.0, 'Cloud:NH-CL': 0.0, 'Cloud:NH-SP': 0.0, 'Cloud:NH-GR': 0.0, 'Cloud:NH-CS': 0.0, 'Cloud:NH-LH': 0.0, 'Cloud:NH-LN': 0.0, 'Cloud:NH-EO': 0.0, 'Cloud:NH-FA': 0.0, 'Cloud:NH-VB': 0.0, 'Cloud:NH-DR': 0.0, 'Cloud:NH-SV': 0.0, 'Cloud:NH-KM': 0.0, 'Cloud:NH-PG': 0.0, 'Cloud:NH-LS': 0.0, 'Cloud:NH-MS': 0.0, 'Cloud:NH-YT': 0.0, 'Cloud:NH-GZ': 0.0, 'Cloud:NH-AA': 0.0, 'Cloud:NH-NL': 0.0, 'Cloud:NH-NV': 0.0, 'Cloud:NH-NH': 0.0, 'Snow:MV-MV': 0.007464590312358517, 'Snow:MV-CL': 0.0050640832956088625, 'Snow:MV-SP': 0.005014757808963321, 'Snow:MV-GR': 0.004521502942507913, 'Snow:MV-CS': 0.004044689904934351, 'Snow:MV-LH': 0.003946038931643268, 'Snow:MV-LN': 0.0020059031235853285, 'Snow:MV-EO': 0.0015126482571299197, 'Snow:MV-FA': 0.0013317881394296033, 'Snow:MV-VB': 0.0008056496152105009, 'Snow:MV-DR': 0.0006083476686283373, 'Snow:MV-SV': 0.0006083476686283373, 'Snow:MV-KM': 0.00041104572204617385, 'Snow:MV-PG': 0.0003781620642824799, 'Snow:MV-LS': 0.0002959529198732452, 'Snow:MV-MS': 0.00019730194658216344, 'Snow:MV-YT': 0.00019730194658216344, 'Snow:MV-GZ': 9.865097329108172e-05, 'Snow:MV-AA': 6.576731552738781e-05, 'Snow:MV-NL': 3.2883657763693905e-05, 'Snow:MV-NV': 3.2883657763693905e-05, 'Snow:MV-NH': 0.0, 'Snow:CL-MV': 0.0050640832956088625, 'Snow:CL-CL': 0.0034355454956994046, 'Snow:CL-SP': 0.003402082390221812, 'Snow:CL-GR': 0.0030674513354458964, 'Snow:CL-CS': 0.0027439746491625112, 'Snow:CL-LH': 0.0026770484382073276, 'Snow:CL-LN': 0.001360832956088725, 'Snow:CL-EO': 0.0010262019013128091, 'Snow:CL-FA': 0.0009035038478949733, 'Snow:CL-VB': 0.0005465640561339961, 'Snow:CL-DR': 0.00041271163422362974, 'Snow:CL-SV': 0.00041271163422362974, 'Snow:CL-KM': 0.00027885921231326333, 'Snow:CL-PG': 0.0002565504753282023, 'Snow:CL-LS': 0.00020077863286554955, 'Snow:CL-MS': 0.00013385242191036638, 'Snow:CL-YT': 0.00013385242191036638, 'Snow:CL-GZ': 6.692621095518319e-05, 'Snow:CL-AA': 4.461747397012214e-05, 'Snow:CL-NL': 2.230873698506107e-05, 'Snow:CL-NV': 2.230873698506107e-05, 'Snow:CL-NH': 0.0, 'Snow:SP-MV': 0.005014757808963321, 'Snow:SP-CL': 0.003402082390221812, 'Snow:SP-SP': 0.0033689452240832883, 'Snow:SP-GR': 0.0030375735626980466, 'Snow:SP-CS': 0.00271724762335898, 'Snow:SP-LH': 0.002650973291081931, 'Snow:SP-LN': 0.0013475780896333154, 'Snow:SP-EO': 0.0010162064282480737, 'Snow:SP-FA': 0.0008947034857401522, 'Snow:SP-VB': 0.000541240380262561, 'Snow:SP-DR': 0.00040869171570846453, 'Snow:SP-SV': 0.00040869171570846453, 'Snow:SP-KM': 0.00027614305115436787, 'Snow:SP-PG': 0.0002540516070620184, 'Snow:SP-LS': 0.00019882299683114487, 'Snow:SP-MS': 0.00013254866455409656, 'Snow:SP-YT': 0.00013254866455409656, 'Snow:SP-GZ': 6.627433227704828e-05, 'Snow:SP-AA': 4.418288818469886e-05, 'Snow:SP-NL': 2.209144409234943e-05, 'Snow:SP-NV': 2.209144409234943e-05, 'Snow:SP-NH': 0.0, 'Snow:GR-MV': 0.004521502942507913, 'Snow:GR-CL': 0.0030674513354458964, 'Snow:GR-SP': 0.0030375735626980466, 'Snow:GR-GR': 0.0027387958352195507, 'Snow:GR-CS': 0.002449977365323671, 'Snow:GR-LH': 0.002390221819827971, 'Snow:GR-LN': 0.0012150294250792186, 'Snow:GR-EO': 0.0009162516976007222, 'Snow:GR-FA': 0.0008066998641919404, 'Snow:GR-VB': 0.00048800362154821083, 'Snow:GR-DR': 0.00036849253055681224, 'Snow:GR-SV': 0.00036849253055681224, 'Snow:GR-KM': 0.0002489814395654137, 'Snow:GR-PG': 0.00022906292440018054, 'Snow:GR-LS': 0.00017926663648709784, 'Snow:GR-MS': 0.00011951109099139855, 'Snow:GR-YT': 0.00011951109099139855, 'Snow:GR-GZ': 5.975554549569928e-05, 'Snow:GR-AA': 3.983703033046619e-05, 'Snow:GR-NL': 1.9918515165233096e-05, 'Snow:GR-NV': 1.9918515165233096e-05, 'Snow:GR-NH': 0.0, 'Snow:CS-MV': 0.004044689904934351, 'Snow:CS-CL': 0.0027439746491625112, 'Snow:CS-SP': 0.00271724762335898, 'Snow:CS-GR': 0.002449977365323671, 'Snow:CS-CS': 0.0021916161158895384, 'Snow:CS-LH': 0.002138162064282476, 'Snow:CS-LN': 0.001086899049343592, 'Snow:CS-EO': 0.0008196287913082824, 'Snow:CS-FA': 0.0007216296966953359, 'Snow:CS-VB': 0.00043654142145767224, 'Snow:CS-DR': 0.00032963331824354845, 'Snow:CS-SV': 0.00032963331824354845, 'Snow:CS-KM': 0.0002227252150294246, 'Snow:CS-PG': 0.0002049071978270706, 'Snow:CS-LS': 0.00016036215482118573, 'Snow:CS-MS': 0.00010690810321412381, 'Snow:CS-YT': 0.00010690810321412381, 'Snow:CS-GZ': 5.3454051607061906e-05, 'Snow:CS-AA': 3.563603440470794e-05, 'Snow:CS-NL': 1.781801720235397e-05, 'Snow:CS-NV': 1.781801720235397e-05, 'Snow:CS-NH': 0.0, 'Snow:LH-MV': 0.003946038931643268, 'Snow:LH-CL': 0.0026770484382073276, 'Snow:LH-SP': 0.002650973291081931, 'Snow:LH-GR': 0.002390221819827971, 'Snow:LH-CS': 0.002138162064282476, 'Snow:LH-LH': 0.002086011770031684, 'Snow:LH-LN': 0.0010603893164327727, 'Snow:LH-EO': 0.0007996378451788122, 'Snow:LH-FA': 0.0007040289723856934, 'Snow:LH-VB': 0.00042589406971480214, 'Snow:LH-DR': 0.000321593481213218, 'Snow:LH-SV': 0.000321593481213218, 'Snow:LH-KM': 0.0002172928927116338, 'Snow:LH-PG': 0.00019990946129470305, 'Snow:LH-LS': 0.0001564508827523763, 'Snow:LH-MS': 0.00010430058850158419, 'Snow:LH-YT': 0.00010430058850158419, 'Snow:LH-GZ': 5.2150294250792095e-05, 'Snow:LH-AA': 3.47668628338614e-05, 'Snow:LH-NL': 1.73834314169307e-05, 'Snow:LH-NV': 1.73834314169307e-05, 'Snow:LH-NH': 0.0, 'Snow:LN-MV': 0.0020059031235853285, 'Snow:LN-CL': 0.001360832956088725, 'Snow:LN-SP': 0.0013475780896333154, 'Snow:LN-GR': 0.0012150294250792186, 'Snow:LN-CS': 0.001086899049343592, 'Snow:LN-LH': 0.0010603893164327727, 'Snow:LN-LN': 0.0005390312358533261, 'Snow:LN-EO': 0.00040648257129922955, 'Snow:LN-FA': 0.00035788139429606086, 'Snow:LN-VB': 0.00021649615210502445, 'Snow:LN-DR': 0.00016347668628338582, 'Snow:LN-SV': 0.00016347668628338582, 'Snow:LN-KM': 0.00011045722046174717, 'Snow:LN-PG': 0.00010162064282480739, 'Snow:LN-LS': 7.952919873245794e-05, 'Snow:LN-MS': 5.301946582163864e-05, 'Snow:LN-YT': 5.301946582163864e-05, 'Snow:LN-GZ': 2.650973291081932e-05, 'Snow:LN-AA': 1.7673155273879544e-05, 'Snow:LN-NL': 8.836577636939772e-06, 'Snow:LN-NV': 8.836577636939772e-06, 'Snow:LN-NH': 0.0, 'Snow:EO-MV': 0.0015126482571299197, 'Snow:EO-CL': 0.0010262019013128091, 'Snow:EO-SP': 0.0010162064282480737, 'Snow:EO-GR': 0.0009162516976007222, 'Snow:EO-CS': 0.0008196287913082824, 'Snow:EO-LH': 0.0007996378451788122, 'Snow:EO-LN': 0.00040648257129922955, 'Snow:EO-EO': 0.00030652784065187793, 'Snow:EO-FA': 0.0002698777727478491, 'Snow:EO-VB': 0.00016325939339067417, 'Snow:EO-DR': 0.00012327750113173353, 'Snow:EO-SV': 0.00012327750113173353, 'Snow:EO-KM': 8.329560887279292e-05, 'Snow:EO-PG': 7.663196016296948e-05, 'Snow:EO-LS': 5.99728383884109e-05, 'Snow:EO-MS': 3.9981892258940603e-05, 'Snow:EO-YT': 3.9981892258940603e-05, 'Snow:EO-GZ': 1.9990946129470302e-05, 'Snow:EO-AA': 1.332729741964687e-05, 'Snow:EO-NL': 6.663648709823435e-06, 'Snow:EO-NV': 6.663648709823435e-06, 'Snow:EO-NH': 0.0, 'Snow:FA-MV': 0.0013317881394296033, 'Snow:FA-CL': 0.0009035038478949733, 'Snow:FA-SP': 0.0008947034857401522, 'Snow:FA-GR': 0.0008066998641919404, 'Snow:FA-CS': 0.0007216296966953359, 'Snow:FA-LH': 0.0007040289723856934, 'Snow:FA-LN': 0.00035788139429606086, 'Snow:FA-EO': 0.0002698777727478491, 'Snow:FA-FA': 0.00023760977818017154, 'Snow:FA-VB': 0.00014373924852874577, 'Snow:FA-DR': 0.00010853779990946108, 'Snow:FA-SV': 0.00010853779990946108, 'Snow:FA-KM': 7.33363512901764e-05, 'Snow:FA-PG': 6.746944318696228e-05, 'Snow:FA-LS': 5.2802172928927004e-05, 'Snow:FA-MS': 3.520144861928467e-05, 'Snow:FA-YT': 3.520144861928467e-05, 'Snow:FA-GZ': 1.7600724309642335e-05, 'Snow:FA-AA': 1.1733816206428223e-05, 'Snow:FA-NL': 5.866908103214111e-06, 'Snow:FA-NV': 5.866908103214111e-06, 'Snow:FA-NH': 0.0, 'Snow:VB-MV': 0.0008056496152105009, 'Snow:VB-CL': 0.0005465640561339961, 'Snow:VB-SP': 0.000541240380262561, 'Snow:VB-GR': 0.00048800362154821083, 'Snow:VB-CS': 0.00043654142145767224, 'Snow:VB-LH': 0.00042589406971480214, 'Snow:VB-LN': 0.00021649615210502445, 'Snow:VB-EO': 0.00016325939339067417, 'Snow:VB-FA': 0.00014373924852874577, 'Snow:VB-VB': 8.695337256677212e-05, 'Snow:VB-DR': 6.565866908103201e-05, 'Snow:VB-SV': 6.565866908103201e-05, 'Snow:VB-KM': 4.43639655952919e-05, 'Snow:VB-PG': 4.081484834766854e-05, 'Snow:VB-LS': 3.1942055228610165e-05, 'Snow:VB-MS': 2.1294703485740106e-05, 'Snow:VB-YT': 2.1294703485740106e-05, 'Snow:VB-GZ': 1.0647351742870053e-05, 'Snow:VB-AA': 7.098234495246703e-06, 'Snow:VB-NL': 3.5491172476233515e-06, 'Snow:VB-NV': 3.5491172476233515e-06, 'Snow:VB-NH': 0.0, 'Snow:DR-MV': 0.0006083476686283373, 'Snow:DR-CL': 0.00041271163422362974, 'Snow:DR-SP': 0.00040869171570846453, 'Snow:DR-GR': 0.00036849253055681224, 'Snow:DR-CS': 0.00032963331824354845, 'Snow:DR-LH': 0.000321593481213218, 'Snow:DR-LN': 0.00016347668628338582, 'Snow:DR-EO': 0.00012327750113173353, 'Snow:DR-FA': 0.00010853779990946108, 'Snow:DR-VB': 6.565866908103201e-05, 'Snow:DR-DR': 4.9578995020371116e-05, 'Snow:DR-SV': 4.9578995020371116e-05, 'Snow:DR-KM': 3.3499320959710204e-05, 'Snow:DR-PG': 3.081937528293338e-05, 'Snow:DR-LS': 2.4119511090991347e-05, 'Snow:DR-MS': 1.6079674060660898e-05, 'Snow:DR-YT': 1.6079674060660898e-05, 'Snow:DR-GZ': 8.039837030330449e-06, 'Snow:DR-AA': 5.359891353553633e-06, 'Snow:DR-NL': 2.6799456767768165e-06, 'Snow:DR-NV': 2.6799456767768165e-06, 'Snow:DR-NH': 0.0, 'Snow:SV-MV': 0.0006083476686283373, 'Snow:SV-CL': 0.00041271163422362974, 'Snow:SV-SP': 0.00040869171570846453, 'Snow:SV-GR': 0.00036849253055681224, 'Snow:SV-CS': 0.00032963331824354845, 'Snow:SV-LH': 0.000321593481213218, 'Snow:SV-LN': 0.00016347668628338582, 'Snow:SV-EO': 0.00012327750113173353, 'Snow:SV-FA': 0.00010853779990946108, 'Snow:SV-VB': 6.565866908103201e-05, 'Snow:SV-DR': 4.9578995020371116e-05, 'Snow:SV-SV': 4.9578995020371116e-05, 'Snow:SV-KM': 3.3499320959710204e-05, 'Snow:SV-PG': 3.081937528293338e-05, 'Snow:SV-LS': 2.4119511090991347e-05, 'Snow:SV-MS': 1.6079674060660898e-05, 'Snow:SV-YT': 1.6079674060660898e-05, 'Snow:SV-GZ': 8.039837030330449e-06, 'Snow:SV-AA': 5.359891353553633e-06, 'Snow:SV-NL': 2.6799456767768165e-06, 'Snow:SV-NV': 2.6799456767768165e-06, 'Snow:SV-NH': 0.0, 'Snow:KM-MV': 0.00041104572204617385, 'Snow:KM-CL': 0.00027885921231326333, 'Snow:KM-SP': 0.00027614305115436787, 'Snow:KM-GR': 0.0002489814395654137, 'Snow:KM-CS': 0.0002227252150294246, 'Snow:KM-LH': 0.0002172928927116338, 'Snow:KM-LN': 0.00011045722046174717, 'Snow:KM-EO': 8.329560887279292e-05, 'Snow:KM-FA': 7.33363512901764e-05, 'Snow:KM-VB': 4.43639655952919e-05, 'Snow:KM-DR': 3.3499320959710204e-05, 'Snow:KM-SV': 3.3499320959710204e-05, 'Snow:KM-KM': 2.2634676324128517e-05, 'Snow:KM-PG': 2.082390221819823e-05, 'Snow:KM-LS': 1.6296966953372533e-05, 'Snow:KM-MS': 1.0864644635581687e-05, 'Snow:KM-YT': 1.0864644635581687e-05, 'Snow:KM-GZ': 5.432322317790843e-06, 'Snow:KM-AA': 3.6215482118605622e-06, 'Snow:KM-NL': 1.8107741059302811e-06, 'Snow:KM-NV': 1.8107741059302811e-06, 'Snow:KM-NH': 0.0, 'Snow:PG-MV': 0.0003781620642824799, 'Snow:PG-CL': 0.0002565504753282023, 'Snow:PG-SP': 0.0002540516070620184, 'Snow:PG-GR': 0.00022906292440018054, 'Snow:PG-CS': 0.0002049071978270706, 'Snow:PG-LH': 0.00019990946129470305, 'Snow:PG-LN': 0.00010162064282480739, 'Snow:PG-EO': 7.663196016296948e-05, 'Snow:PG-FA': 6.746944318696228e-05, 'Snow:PG-VB': 4.081484834766854e-05, 'Snow:PG-DR': 3.081937528293338e-05, 'Snow:PG-SV': 3.081937528293338e-05, 'Snow:PG-KM': 2.082390221819823e-05, 'Snow:PG-PG': 1.915799004074237e-05, 'Snow:PG-LS': 1.4993209597102725e-05, 'Snow:PG-MS': 9.995473064735151e-06, 'Snow:PG-YT': 9.995473064735151e-06, 'Snow:PG-GZ': 4.9977365323675754e-06, 'Snow:PG-AA': 3.3318243549117175e-06, 'Snow:PG-NL': 1.6659121774558588e-06, 'Snow:PG-NV': 1.6659121774558588e-06, 'Snow:PG-NH': 0.0, 'Snow:LS-MV': 0.0002959529198732452, 'Snow:LS-CL': 0.00020077863286554955, 'Snow:LS-SP': 0.00019882299683114487, 'Snow:LS-GR': 0.00017926663648709784, 'Snow:LS-CS': 0.00016036215482118573, 'Snow:LS-LH': 0.0001564508827523763, 'Snow:LS-LN': 7.952919873245794e-05, 'Snow:LS-EO': 5.99728383884109e-05, 'Snow:LS-FA': 5.2802172928927004e-05, 'Snow:LS-VB': 3.1942055228610165e-05, 'Snow:LS-DR': 2.4119511090991347e-05, 'Snow:LS-SV': 2.4119511090991347e-05, 'Snow:LS-KM': 1.6296966953372533e-05, 'Snow:LS-PG': 1.4993209597102725e-05, 'Snow:LS-LS': 1.173381620642822e-05, 'Snow:LS-MS': 7.822544137618814e-06, 'Snow:LS-YT': 7.822544137618814e-06, 'Snow:LS-GZ': 3.911272068809407e-06, 'Snow:LS-AA': 2.607514712539605e-06, 'Snow:LS-NL': 1.3037573562698025e-06, 'Snow:LS-NV': 1.3037573562698025e-06, 'Snow:LS-NH': 0.0, 'Snow:MS-MV': 0.00019730194658216344, 'Snow:MS-CL': 0.00013385242191036638, 'Snow:MS-SP': 0.00013254866455409656, 'Snow:MS-GR': 0.00011951109099139855, 'Snow:MS-CS': 0.00010690810321412381, 'Snow:MS-LH': 0.00010430058850158419, 'Snow:MS-LN': 5.301946582163864e-05, 'Snow:MS-EO': 3.9981892258940603e-05, 'Snow:MS-FA': 3.520144861928467e-05, 'Snow:MS-VB': 2.1294703485740106e-05, 'Snow:MS-DR': 1.6079674060660898e-05, 'Snow:MS-SV': 1.6079674060660898e-05, 'Snow:MS-KM': 1.0864644635581687e-05, 'Snow:MS-PG': 9.995473064735151e-06, 'Snow:MS-LS': 7.822544137618814e-06, 'Snow:MS-MS': 5.21502942507921e-06, 'Snow:MS-YT': 5.21502942507921e-06, 'Snow:MS-GZ': 2.607514712539605e-06, 'Snow:MS-AA': 1.73834314169307e-06, 'Snow:MS-NL': 8.69171570846535e-07, 'Snow:MS-NV': 8.69171570846535e-07, 'Snow:MS-NH': 0.0, 'Snow:YT-MV': 0.00019730194658216344, 'Snow:YT-CL': 0.00013385242191036638, 'Snow:YT-SP': 0.00013254866455409656, 'Snow:YT-GR': 0.00011951109099139855, 'Snow:YT-CS': 0.00010690810321412381, 'Snow:YT-LH': 0.00010430058850158419, 'Snow:YT-LN': 5.301946582163864e-05, 'Snow:YT-EO': 3.9981892258940603e-05, 'Snow:YT-FA': 3.520144861928467e-05, 'Snow:YT-VB': 2.1294703485740106e-05, 'Snow:YT-DR': 1.6079674060660898e-05, 'Snow:YT-SV': 1.6079674060660898e-05, 'Snow:YT-KM': 1.0864644635581687e-05, 'Snow:YT-PG': 9.995473064735151e-06, 'Snow:YT-LS': 7.822544137618814e-06, 'Snow:YT-MS': 5.21502942507921e-06, 'Snow:YT-YT': 5.21502942507921e-06, 'Snow:YT-GZ': 2.607514712539605e-06, 'Snow:YT-AA': 1.73834314169307e-06, 'Snow:YT-NL': 8.69171570846535e-07, 'Snow:YT-NV': 8.69171570846535e-07, 'Snow:YT-NH': 0.0, 'Snow:GZ-MV': 9.865097329108172e-05, 'Snow:GZ-CL': 6.692621095518319e-05, 'Snow:GZ-SP': 6.627433227704828e-05, 'Snow:GZ-GR': 5.975554549569928e-05, 'Snow:GZ-CS': 5.3454051607061906e-05, 'Snow:GZ-LH': 5.2150294250792095e-05, 'Snow:GZ-LN': 2.650973291081932e-05, 'Snow:GZ-EO': 1.9990946129470302e-05, 'Snow:GZ-FA': 1.7600724309642335e-05, 'Snow:GZ-VB': 1.0647351742870053e-05, 'Snow:GZ-DR': 8.039837030330449e-06, 'Snow:GZ-SV': 8.039837030330449e-06, 'Snow:GZ-KM': 5.432322317790843e-06, 'Snow:GZ-PG': 4.9977365323675754e-06, 'Snow:GZ-LS': 3.911272068809407e-06, 'Snow:GZ-MS': 2.607514712539605e-06, 'Snow:GZ-YT': 2.607514712539605e-06, 'Snow:GZ-GZ': 1.3037573562698025e-06, 'Snow:GZ-AA': 8.69171570846535e-07, 'Snow:GZ-NL': 4.345857854232675e-07, 'Snow:GZ-NV': 4.345857854232675e-07, 'Snow:GZ-NH': 0.0, 'Snow:AA-MV': 6.576731552738781e-05, 'Snow:AA-CL': 4.461747397012214e-05, 'Snow:AA-SP': 4.418288818469886e-05, 'Snow:AA-GR': 3.983703033046619e-05, 'Snow:AA-CS': 3.563603440470794e-05, 'Snow:AA-LH': 3.47668628338614e-05, 'Snow:AA-LN': 1.7673155273879544e-05, 'Snow:AA-EO': 1.332729741964687e-05, 'Snow:AA-FA': 1.1733816206428223e-05, 'Snow:AA-VB': 7.098234495246703e-06, 'Snow:AA-DR': 5.359891353553633e-06, 'Snow:AA-SV': 5.359891353553633e-06, 'Snow:AA-KM': 3.6215482118605622e-06, 'Snow:AA-PG': 3.3318243549117175e-06, 'Snow:AA-LS': 2.607514712539605e-06, 'Snow:AA-MS': 1.73834314169307e-06, 'Snow:AA-YT': 1.73834314169307e-06, 'Snow:AA-GZ': 8.69171570846535e-07, 'Snow:AA-AA': 5.794477138976899e-07, 'Snow:AA-NL': 2.8972385694884497e-07, 'Snow:AA-NV': 2.8972385694884497e-07, 'Snow:AA-NH': 0.0, 'Snow:NL-MV': 3.2883657763693905e-05, 'Snow:NL-CL': 2.230873698506107e-05, 'Snow:NL-SP': 2.209144409234943e-05, 'Snow:NL-GR': 1.9918515165233096e-05, 'Snow:NL-CS': 1.781801720235397e-05, 'Snow:NL-LH': 1.73834314169307e-05, 'Snow:NL-LN': 8.836577636939772e-06, 'Snow:NL-EO': 6.663648709823435e-06, 'Snow:NL-FA': 5.866908103214111e-06, 'Snow:NL-VB': 3.5491172476233515e-06, 'Snow:NL-DR': 2.6799456767768165e-06, 'Snow:NL-SV': 2.6799456767768165e-06, 'Snow:NL-KM': 1.8107741059302811e-06, 'Snow:NL-PG': 1.6659121774558588e-06, 'Snow:NL-LS': 1.3037573562698025e-06, 'Snow:NL-MS': 8.69171570846535e-07, 'Snow:NL-YT': 8.69171570846535e-07, 'Snow:NL-GZ': 4.345857854232675e-07, 'Snow:NL-AA': 2.8972385694884497e-07, 'Snow:NL-NL': 1.4486192847442249e-07, 'Snow:NL-NV': 1.4486192847442249e-07, 'Snow:NL-NH': 0.0, 'Snow:NV-MV': 3.2883657763693905e-05, 'Snow:NV-CL': 2.230873698506107e-05, 'Snow:NV-SP': 2.209144409234943e-05, 'Snow:NV-GR': 1.9918515165233096e-05, 'Snow:NV-CS': 1.781801720235397e-05, 'Snow:NV-LH': 1.73834314169307e-05, 'Snow:NV-LN': 8.836577636939772e-06, 'Snow:NV-EO': 6.663648709823435e-06, 'Snow:NV-FA': 5.866908103214111e-06, 'Snow:NV-VB': 3.5491172476233515e-06, 'Snow:NV-DR': 2.6799456767768165e-06, 'Snow:NV-SV': 2.6799456767768165e-06, 'Snow:NV-KM': 1.8107741059302811e-06, 'Snow:NV-PG': 1.6659121774558588e-06, 'Snow:NV-LS': 1.3037573562698025e-06, 'Snow:NV-MS': 8.69171570846535e-07, 'Snow:NV-YT': 8.69171570846535e-07, 'Snow:NV-GZ': 4.345857854232675e-07, 'Snow:NV-AA': 2.8972385694884497e-07, 'Snow:NV-NL': 1.4486192847442249e-07, 'Snow:NV-NV': 1.4486192847442249e-07, 'Snow:NV-NH': 0.0, 'Snow:NH-MV': 0.0, 'Snow:NH-CL': 0.0, 'Snow:NH-SP': 0.0, 'Snow:NH-GR': 0.0, 'Snow:NH-CS': 0.0, 'Snow:NH-LH': 0.0, 'Snow:NH-LN': 0.0, 'Snow:NH-EO': 0.0, 'Snow:NH-FA': 0.0, 'Snow:NH-VB': 0.0, 'Snow:NH-DR': 0.0, 'Snow:NH-SV': 0.0, 'Snow:NH-KM': 0.0, 'Snow:NH-PG': 0.0, 'Snow:NH-LS': 0.0, 'Snow:NH-MS': 0.0, 'Snow:NH-YT': 0.0, 'Snow:NH-GZ': 0.0, 'Snow:NH-AA': 0.0, 'Snow:NH-NL': 0.0, 'Snow:NH-NV': 0.0, 'Snow:NH-NH': 0.0, 'Fog:MV-MV': 0.007464590312358517, 'Fog:MV-CL': 0.0050640832956088625, 'Fog:MV-SP': 0.005014757808963321, 'Fog:MV-GR': 0.004521502942507913, 'Fog:MV-CS': 0.004044689904934351, 'Fog:MV-LH': 0.003946038931643268, 'Fog:MV-LN': 0.0020059031235853285, 'Fog:MV-EO': 0.0015126482571299197, 'Fog:MV-FA': 0.0013317881394296033, 'Fog:MV-VB': 0.0008056496152105009, 'Fog:MV-DR': 0.0006083476686283373, 'Fog:MV-SV': 0.0006083476686283373, 'Fog:MV-KM': 0.00041104572204617385, 'Fog:MV-PG': 0.0003781620642824799, 'Fog:MV-LS': 0.0002959529198732452, 'Fog:MV-MS': 0.00019730194658216344, 'Fog:MV-YT': 0.00019730194658216344, 'Fog:MV-GZ': 9.865097329108172e-05, 'Fog:MV-AA': 6.576731552738781e-05, 'Fog:MV-NL': 3.2883657763693905e-05, 'Fog:MV-NV': 3.2883657763693905e-05, 'Fog:MV-NH': 0.0, 'Fog:CL-MV': 0.0050640832956088625, 'Fog:CL-CL': 0.0034355454956994046, 'Fog:CL-SP': 0.003402082390221812, 'Fog:CL-GR': 0.0030674513354458964, 'Fog:CL-CS': 0.0027439746491625112, 'Fog:CL-LH': 0.0026770484382073276, 'Fog:CL-LN': 0.001360832956088725, 'Fog:CL-EO': 0.0010262019013128091, 'Fog:CL-FA': 0.0009035038478949733, 'Fog:CL-VB': 0.0005465640561339961, 'Fog:CL-DR': 0.00041271163422362974, 'Fog:CL-SV': 0.00041271163422362974, 'Fog:CL-KM': 0.00027885921231326333, 'Fog:CL-PG': 0.0002565504753282023, 'Fog:CL-LS': 0.00020077863286554955, 'Fog:CL-MS': 0.00013385242191036638, 'Fog:CL-YT': 0.00013385242191036638, 'Fog:CL-GZ': 6.692621095518319e-05, 'Fog:CL-AA': 4.461747397012214e-05, 'Fog:CL-NL': 2.230873698506107e-05, 'Fog:CL-NV': 2.230873698506107e-05, 'Fog:CL-NH': 0.0, 'Fog:SP-MV': 0.005014757808963321, 'Fog:SP-CL': 0.003402082390221812, 'Fog:SP-SP': 0.0033689452240832883, 'Fog:SP-GR': 0.0030375735626980466, 'Fog:SP-CS': 0.00271724762335898, 'Fog:SP-LH': 0.002650973291081931, 'Fog:SP-LN': 0.0013475780896333154, 'Fog:SP-EO': 0.0010162064282480737, 'Fog:SP-FA': 0.0008947034857401522, 'Fog:SP-VB': 0.000541240380262561, 'Fog:SP-DR': 0.00040869171570846453, 'Fog:SP-SV': 0.00040869171570846453, 'Fog:SP-KM': 0.00027614305115436787, 'Fog:SP-PG': 0.0002540516070620184, 'Fog:SP-LS': 0.00019882299683114487, 'Fog:SP-MS': 0.00013254866455409656, 'Fog:SP-YT': 0.00013254866455409656, 'Fog:SP-GZ': 6.627433227704828e-05, 'Fog:SP-AA': 4.418288818469886e-05, 'Fog:SP-NL': 2.209144409234943e-05, 'Fog:SP-NV': 2.209144409234943e-05, 'Fog:SP-NH': 0.0, 'Fog:GR-MV': 0.004521502942507913, 'Fog:GR-CL': 0.0030674513354458964, 'Fog:GR-SP': 0.0030375735626980466, 'Fog:GR-GR': 0.0027387958352195507, 'Fog:GR-CS': 0.002449977365323671, 'Fog:GR-LH': 0.002390221819827971, 'Fog:GR-LN': 0.0012150294250792186, 'Fog:GR-EO': 0.0009162516976007222, 'Fog:GR-FA': 0.0008066998641919404, 'Fog:GR-VB': 0.00048800362154821083, 'Fog:GR-DR': 0.00036849253055681224, 'Fog:GR-SV': 0.00036849253055681224, 'Fog:GR-KM': 0.0002489814395654137, 'Fog:GR-PG': 0.00022906292440018054, 'Fog:GR-LS': 0.00017926663648709784, 'Fog:GR-MS': 0.00011951109099139855, 'Fog:GR-YT': 0.00011951109099139855, 'Fog:GR-GZ': 5.975554549569928e-05, 'Fog:GR-AA': 3.983703033046619e-05, 'Fog:GR-NL': 1.9918515165233096e-05, 'Fog:GR-NV': 1.9918515165233096e-05, 'Fog:GR-NH': 0.0, 'Fog:CS-MV': 0.004044689904934351, 'Fog:CS-CL': 0.0027439746491625112, 'Fog:CS-SP': 0.00271724762335898, 'Fog:CS-GR': 0.002449977365323671, 'Fog:CS-CS': 0.0021916161158895384, 'Fog:CS-LH': 0.002138162064282476, 'Fog:CS-LN': 0.001086899049343592, 'Fog:CS-EO': 0.0008196287913082824, 'Fog:CS-FA': 0.0007216296966953359, 'Fog:CS-VB': 0.00043654142145767224, 'Fog:CS-DR': 0.00032963331824354845, 'Fog:CS-SV': 0.00032963331824354845, 'Fog:CS-KM': 0.0002227252150294246, 'Fog:CS-PG': 0.0002049071978270706, 'Fog:CS-LS': 0.00016036215482118573, 'Fog:CS-MS': 0.00010690810321412381, 'Fog:CS-YT': 0.00010690810321412381, 'Fog:CS-GZ': 5.3454051607061906e-05, 'Fog:CS-AA': 3.563603440470794e-05, 'Fog:CS-NL': 1.781801720235397e-05, 'Fog:CS-NV': 1.781801720235397e-05, 'Fog:CS-NH': 0.0, 'Fog:LH-MV': 0.003946038931643268, 'Fog:LH-CL': 0.0026770484382073276, 'Fog:LH-SP': 0.002650973291081931, 'Fog:LH-GR': 0.002390221819827971, 'Fog:LH-CS': 0.002138162064282476, 'Fog:LH-LH': 0.002086011770031684, 'Fog:LH-LN': 0.0010603893164327727, 'Fog:LH-EO': 0.0007996378451788122, 'Fog:LH-FA': 0.0007040289723856934, 'Fog:LH-VB': 0.00042589406971480214, 'Fog:LH-DR': 0.000321593481213218, 'Fog:LH-SV': 0.000321593481213218, 'Fog:LH-KM': 0.0002172928927116338, 'Fog:LH-PG': 0.00019990946129470305, 'Fog:LH-LS': 0.0001564508827523763, 'Fog:LH-MS': 0.00010430058850158419, 'Fog:LH-YT': 0.00010430058850158419, 'Fog:LH-GZ': 5.2150294250792095e-05, 'Fog:LH-AA': 3.47668628338614e-05, 'Fog:LH-NL': 1.73834314169307e-05, 'Fog:LH-NV': 1.73834314169307e-05, 'Fog:LH-NH': 0.0, 'Fog:LN-MV': 0.0020059031235853285, 'Fog:LN-CL': 0.001360832956088725, 'Fog:LN-SP': 0.0013475780896333154, 'Fog:LN-GR': 0.0012150294250792186, 'Fog:LN-CS': 0.001086899049343592, 'Fog:LN-LH': 0.0010603893164327727, 'Fog:LN-LN': 0.0005390312358533261, 'Fog:LN-EO': 0.00040648257129922955, 'Fog:LN-FA': 0.00035788139429606086, 'Fog:LN-VB': 0.00021649615210502445, 'Fog:LN-DR': 0.00016347668628338582, 'Fog:LN-SV': 0.00016347668628338582, 'Fog:LN-KM': 0.00011045722046174717, 'Fog:LN-PG': 0.00010162064282480739, 'Fog:LN-LS': 7.952919873245794e-05, 'Fog:LN-MS': 5.301946582163864e-05, 'Fog:LN-YT': 5.301946582163864e-05, 'Fog:LN-GZ': 2.650973291081932e-05, 'Fog:LN-AA': 1.7673155273879544e-05, 'Fog:LN-NL': 8.836577636939772e-06, 'Fog:LN-NV': 8.836577636939772e-06, 'Fog:LN-NH': 0.0, 'Fog:EO-MV': 0.0015126482571299197, 'Fog:EO-CL': 0.0010262019013128091, 'Fog:EO-SP': 0.0010162064282480737, 'Fog:EO-GR': 0.0009162516976007222, 'Fog:EO-CS': 0.0008196287913082824, 'Fog:EO-LH': 0.0007996378451788122, 'Fog:EO-LN': 0.00040648257129922955, 'Fog:EO-EO': 0.00030652784065187793, 'Fog:EO-FA': 0.0002698777727478491, 'Fog:EO-VB': 0.00016325939339067417, 'Fog:EO-DR': 0.00012327750113173353, 'Fog:EO-SV': 0.00012327750113173353, 'Fog:EO-KM': 8.329560887279292e-05, 'Fog:EO-PG': 7.663196016296948e-05, 'Fog:EO-LS': 5.99728383884109e-05, 'Fog:EO-MS': 3.9981892258940603e-05, 'Fog:EO-YT': 3.9981892258940603e-05, 'Fog:EO-GZ': 1.9990946129470302e-05, 'Fog:EO-AA': 1.332729741964687e-05, 'Fog:EO-NL': 6.663648709823435e-06, 'Fog:EO-NV': 6.663648709823435e-06, 'Fog:EO-NH': 0.0, 'Fog:FA-MV': 0.0013317881394296033, 'Fog:FA-CL': 0.0009035038478949733, 'Fog:FA-SP': 0.0008947034857401522, 'Fog:FA-GR': 0.0008066998641919404, 'Fog:FA-CS': 0.0007216296966953359, 'Fog:FA-LH': 0.0007040289723856934, 'Fog:FA-LN': 0.00035788139429606086, 'Fog:FA-EO': 0.0002698777727478491, 'Fog:FA-FA': 0.00023760977818017154, 'Fog:FA-VB': 0.00014373924852874577, 'Fog:FA-DR': 0.00010853779990946108, 'Fog:FA-SV': 0.00010853779990946108, 'Fog:FA-KM': 7.33363512901764e-05, 'Fog:FA-PG': 6.746944318696228e-05, 'Fog:FA-LS': 5.2802172928927004e-05, 'Fog:FA-MS': 3.520144861928467e-05, 'Fog:FA-YT': 3.520144861928467e-05, 'Fog:FA-GZ': 1.7600724309642335e-05, 'Fog:FA-AA': 1.1733816206428223e-05, 'Fog:FA-NL': 5.866908103214111e-06, 'Fog:FA-NV': 5.866908103214111e-06, 'Fog:FA-NH': 0.0, 'Fog:VB-MV': 0.0008056496152105009, 'Fog:VB-CL': 0.0005465640561339961, 'Fog:VB-SP': 0.000541240380262561, 'Fog:VB-GR': 0.00048800362154821083, 'Fog:VB-CS': 0.00043654142145767224, 'Fog:VB-LH': 0.00042589406971480214, 'Fog:VB-LN': 0.00021649615210502445, 'Fog:VB-EO': 0.00016325939339067417, 'Fog:VB-FA': 0.00014373924852874577, 'Fog:VB-VB': 8.695337256677212e-05, 'Fog:VB-DR': 6.565866908103201e-05, 'Fog:VB-SV': 6.565866908103201e-05, 'Fog:VB-KM': 4.43639655952919e-05, 'Fog:VB-PG': 4.081484834766854e-05, 'Fog:VB-LS': 3.1942055228610165e-05, 'Fog:VB-MS': 2.1294703485740106e-05, 'Fog:VB-YT': 2.1294703485740106e-05, 'Fog:VB-GZ': 1.0647351742870053e-05, 'Fog:VB-AA': 7.098234495246703e-06, 'Fog:VB-NL': 3.5491172476233515e-06, 'Fog:VB-NV': 3.5491172476233515e-06, 'Fog:VB-NH': 0.0, 'Fog:DR-MV': 0.0006083476686283373, 'Fog:DR-CL': 0.00041271163422362974, 'Fog:DR-SP': 0.00040869171570846453, 'Fog:DR-GR': 0.00036849253055681224, 'Fog:DR-CS': 0.00032963331824354845, 'Fog:DR-LH': 0.000321593481213218, 'Fog:DR-LN': 0.00016347668628338582, 'Fog:DR-EO': 0.00012327750113173353, 'Fog:DR-FA': 0.00010853779990946108, 'Fog:DR-VB': 6.565866908103201e-05, 'Fog:DR-DR': 4.9578995020371116e-05, 'Fog:DR-SV': 4.9578995020371116e-05, 'Fog:DR-KM': 3.3499320959710204e-05, 'Fog:DR-PG': 3.081937528293338e-05, 'Fog:DR-LS': 2.4119511090991347e-05, 'Fog:DR-MS': 1.6079674060660898e-05, 'Fog:DR-YT': 1.6079674060660898e-05, 'Fog:DR-GZ': 8.039837030330449e-06, 'Fog:DR-AA': 5.359891353553633e-06, 'Fog:DR-NL': 2.6799456767768165e-06, 'Fog:DR-NV': 2.6799456767768165e-06, 'Fog:DR-NH': 0.0, 'Fog:SV-MV': 0.0006083476686283373, 'Fog:SV-CL': 0.00041271163422362974, 'Fog:SV-SP': 0.00040869171570846453, 'Fog:SV-GR': 0.00036849253055681224, 'Fog:SV-CS': 0.00032963331824354845, 'Fog:SV-LH': 0.000321593481213218, 'Fog:SV-LN': 0.00016347668628338582, 'Fog:SV-EO': 0.00012327750113173353, 'Fog:SV-FA': 0.00010853779990946108, 'Fog:SV-VB': 6.565866908103201e-05, 'Fog:SV-DR': 4.9578995020371116e-05, 'Fog:SV-SV': 4.9578995020371116e-05, 'Fog:SV-KM': 3.3499320959710204e-05, 'Fog:SV-PG': 3.081937528293338e-05, 'Fog:SV-LS': 2.4119511090991347e-05, 'Fog:SV-MS': 1.6079674060660898e-05, 'Fog:SV-YT': 1.6079674060660898e-05, 'Fog:SV-GZ': 8.039837030330449e-06, 'Fog:SV-AA': 5.359891353553633e-06, 'Fog:SV-NL': 2.6799456767768165e-06, 'Fog:SV-NV': 2.6799456767768165e-06, 'Fog:SV-NH': 0.0, 'Fog:KM-MV': 0.00041104572204617385, 'Fog:KM-CL': 0.00027885921231326333, 'Fog:KM-SP': 0.00027614305115436787, 'Fog:KM-GR': 0.0002489814395654137, 'Fog:KM-CS': 0.0002227252150294246, 'Fog:KM-LH': 0.0002172928927116338, 'Fog:KM-LN': 0.00011045722046174717, 'Fog:KM-EO': 8.329560887279292e-05, 'Fog:KM-FA': 7.33363512901764e-05, 'Fog:KM-VB': 4.43639655952919e-05, 'Fog:KM-DR': 3.3499320959710204e-05, 'Fog:KM-SV': 3.3499320959710204e-05, 'Fog:KM-KM': 2.2634676324128517e-05, 'Fog:KM-PG': 2.082390221819823e-05, 'Fog:KM-LS': 1.6296966953372533e-05, 'Fog:KM-MS': 1.0864644635581687e-05, 'Fog:KM-YT': 1.0864644635581687e-05, 'Fog:KM-GZ': 5.432322317790843e-06, 'Fog:KM-AA': 3.6215482118605622e-06, 'Fog:KM-NL': 1.8107741059302811e-06, 'Fog:KM-NV': 1.8107741059302811e-06, 'Fog:KM-NH': 0.0, 'Fog:PG-MV': 0.0003781620642824799, 'Fog:PG-CL': 0.0002565504753282023, 'Fog:PG-SP': 0.0002540516070620184, 'Fog:PG-GR': 0.00022906292440018054, 'Fog:PG-CS': 0.0002049071978270706, 'Fog:PG-LH': 0.00019990946129470305, 'Fog:PG-LN': 0.00010162064282480739, 'Fog:PG-EO': 7.663196016296948e-05, 'Fog:PG-FA': 6.746944318696228e-05, 'Fog:PG-VB': 4.081484834766854e-05, 'Fog:PG-DR': 3.081937528293338e-05, 'Fog:PG-SV': 3.081937528293338e-05, 'Fog:PG-KM': 2.082390221819823e-05, 'Fog:PG-PG': 1.915799004074237e-05, 'Fog:PG-LS': 1.4993209597102725e-05, 'Fog:PG-MS': 9.995473064735151e-06, 'Fog:PG-YT': 9.995473064735151e-06, 'Fog:PG-GZ': 4.9977365323675754e-06, 'Fog:PG-AA': 3.3318243549117175e-06, 'Fog:PG-NL': 1.6659121774558588e-06, 'Fog:PG-NV': 1.6659121774558588e-06, 'Fog:PG-NH': 0.0, 'Fog:LS-MV': 0.0002959529198732452, 'Fog:LS-CL': 0.00020077863286554955, 'Fog:LS-SP': 0.00019882299683114487, 'Fog:LS-GR': 0.00017926663648709784, 'Fog:LS-CS': 0.00016036215482118573, 'Fog:LS-LH': 0.0001564508827523763, 'Fog:LS-LN': 7.952919873245794e-05, 'Fog:LS-EO': 5.99728383884109e-05, 'Fog:LS-FA': 5.2802172928927004e-05, 'Fog:LS-VB': 3.1942055228610165e-05, 'Fog:LS-DR': 2.4119511090991347e-05, 'Fog:LS-SV': 2.4119511090991347e-05, 'Fog:LS-KM': 1.6296966953372533e-05, 'Fog:LS-PG': 1.4993209597102725e-05, 'Fog:LS-LS': 1.173381620642822e-05, 'Fog:LS-MS': 7.822544137618814e-06, 'Fog:LS-YT': 7.822544137618814e-06, 'Fog:LS-GZ': 3.911272068809407e-06, 'Fog:LS-AA': 2.607514712539605e-06, 'Fog:LS-NL': 1.3037573562698025e-06, 'Fog:LS-NV': 1.3037573562698025e-06, 'Fog:LS-NH': 0.0, 'Fog:MS-MV': 0.00019730194658216344, 'Fog:MS-CL': 0.00013385242191036638, 'Fog:MS-SP': 0.00013254866455409656, 'Fog:MS-GR': 0.00011951109099139855, 'Fog:MS-CS': 0.00010690810321412381, 'Fog:MS-LH': 0.00010430058850158419, 'Fog:MS-LN': 5.301946582163864e-05, 'Fog:MS-EO': 3.9981892258940603e-05, 'Fog:MS-FA': 3.520144861928467e-05, 'Fog:MS-VB': 2.1294703485740106e-05, 'Fog:MS-DR': 1.6079674060660898e-05, 'Fog:MS-SV': 1.6079674060660898e-05, 'Fog:MS-KM': 1.0864644635581687e-05, 'Fog:MS-PG': 9.995473064735151e-06, 'Fog:MS-LS': 7.822544137618814e-06, 'Fog:MS-MS': 5.21502942507921e-06, 'Fog:MS-YT': 5.21502942507921e-06, 'Fog:MS-GZ': 2.607514712539605e-06, 'Fog:MS-AA': 1.73834314169307e-06, 'Fog:MS-NL': 8.69171570846535e-07, 'Fog:MS-NV': 8.69171570846535e-07, 'Fog:MS-NH': 0.0, 'Fog:YT-MV': 0.00019730194658216344, 'Fog:YT-CL': 0.00013385242191036638, 'Fog:YT-SP': 0.00013254866455409656, 'Fog:YT-GR': 0.00011951109099139855, 'Fog:YT-CS': 0.00010690810321412381, 'Fog:YT-LH': 0.00010430058850158419, 'Fog:YT-LN': 5.301946582163864e-05, 'Fog:YT-EO': 3.9981892258940603e-05, 'Fog:YT-FA': 3.520144861928467e-05, 'Fog:YT-VB': 2.1294703485740106e-05, 'Fog:YT-DR': 1.6079674060660898e-05, 'Fog:YT-SV': 1.6079674060660898e-05, 'Fog:YT-KM': 1.0864644635581687e-05, 'Fog:YT-PG': 9.995473064735151e-06, 'Fog:YT-LS': 7.822544137618814e-06, 'Fog:YT-MS': 5.21502942507921e-06, 'Fog:YT-YT': 5.21502942507921e-06, 'Fog:YT-GZ': 2.607514712539605e-06, 'Fog:YT-AA': 1.73834314169307e-06, 'Fog:YT-NL': 8.69171570846535e-07, 'Fog:YT-NV': 8.69171570846535e-07, 'Fog:YT-NH': 0.0, 'Fog:GZ-MV': 9.865097329108172e-05, 'Fog:GZ-CL': 6.692621095518319e-05, 'Fog:GZ-SP': 6.627433227704828e-05, 'Fog:GZ-GR': 5.975554549569928e-05, 'Fog:GZ-CS': 5.3454051607061906e-05, 'Fog:GZ-LH': 5.2150294250792095e-05, 'Fog:GZ-LN': 2.650973291081932e-05, 'Fog:GZ-EO': 1.9990946129470302e-05, 'Fog:GZ-FA': 1.7600724309642335e-05, 'Fog:GZ-VB': 1.0647351742870053e-05, 'Fog:GZ-DR': 8.039837030330449e-06, 'Fog:GZ-SV': 8.039837030330449e-06, 'Fog:GZ-KM': 5.432322317790843e-06, 'Fog:GZ-PG': 4.9977365323675754e-06, 'Fog:GZ-LS': 3.911272068809407e-06, 'Fog:GZ-MS': 2.607514712539605e-06, 'Fog:GZ-YT': 2.607514712539605e-06, 'Fog:GZ-GZ': 1.3037573562698025e-06, 'Fog:GZ-AA': 8.69171570846535e-07, 'Fog:GZ-NL': 4.345857854232675e-07, 'Fog:GZ-NV': 4.345857854232675e-07, 'Fog:GZ-NH': 0.0, 'Fog:AA-MV': 6.576731552738781e-05, 'Fog:AA-CL': 4.461747397012214e-05, 'Fog:AA-SP': 4.418288818469886e-05, 'Fog:AA-GR': 3.983703033046619e-05, 'Fog:AA-CS': 3.563603440470794e-05, 'Fog:AA-LH': 3.47668628338614e-05, 'Fog:AA-LN': 1.7673155273879544e-05, 'Fog:AA-EO': 1.332729741964687e-05, 'Fog:AA-FA': 1.1733816206428223e-05, 'Fog:AA-VB': 7.098234495246703e-06, 'Fog:AA-DR': 5.359891353553633e-06, 'Fog:AA-SV': 5.359891353553633e-06, 'Fog:AA-KM': 3.6215482118605622e-06, 'Fog:AA-PG': 3.3318243549117175e-06, 'Fog:AA-LS': 2.607514712539605e-06, 'Fog:AA-MS': 1.73834314169307e-06, 'Fog:AA-YT': 1.73834314169307e-06, 'Fog:AA-GZ': 8.69171570846535e-07, 'Fog:AA-AA': 5.794477138976899e-07, 'Fog:AA-NL': 2.8972385694884497e-07, 'Fog:AA-NV': 2.8972385694884497e-07, 'Fog:AA-NH': 0.0, 'Fog:NL-MV': 3.2883657763693905e-05, 'Fog:NL-CL': 2.230873698506107e-05, 'Fog:NL-SP': 2.209144409234943e-05, 'Fog:NL-GR': 1.9918515165233096e-05, 'Fog:NL-CS': 1.781801720235397e-05, 'Fog:NL-LH': 1.73834314169307e-05, 'Fog:NL-LN': 8.836577636939772e-06, 'Fog:NL-EO': 6.663648709823435e-06, 'Fog:NL-FA': 5.866908103214111e-06, 'Fog:NL-VB': 3.5491172476233515e-06, 'Fog:NL-DR': 2.6799456767768165e-06, 'Fog:NL-SV': 2.6799456767768165e-06, 'Fog:NL-KM': 1.8107741059302811e-06, 'Fog:NL-PG': 1.6659121774558588e-06, 'Fog:NL-LS': 1.3037573562698025e-06, 'Fog:NL-MS': 8.69171570846535e-07, 'Fog:NL-YT': 8.69171570846535e-07, 'Fog:NL-GZ': 4.345857854232675e-07, 'Fog:NL-AA': 2.8972385694884497e-07, 'Fog:NL-NL': 1.4486192847442249e-07, 'Fog:NL-NV': 1.4486192847442249e-07, 'Fog:NL-NH': 0.0, 'Fog:NV-MV': 3.2883657763693905e-05, 'Fog:NV-CL': 2.230873698506107e-05, 'Fog:NV-SP': 2.209144409234943e-05, 'Fog:NV-GR': 1.9918515165233096e-05, 'Fog:NV-CS': 1.781801720235397e-05, 'Fog:NV-LH': 1.73834314169307e-05, 'Fog:NV-LN': 8.836577636939772e-06, 'Fog:NV-EO': 6.663648709823435e-06, 'Fog:NV-FA': 5.866908103214111e-06, 'Fog:NV-VB': 3.5491172476233515e-06, 'Fog:NV-DR': 2.6799456767768165e-06, 'Fog:NV-SV': 2.6799456767768165e-06, 'Fog:NV-KM': 1.8107741059302811e-06, 'Fog:NV-PG': 1.6659121774558588e-06, 'Fog:NV-LS': 1.3037573562698025e-06, 'Fog:NV-MS': 8.69171570846535e-07, 'Fog:NV-YT': 8.69171570846535e-07, 'Fog:NV-GZ': 4.345857854232675e-07, 'Fog:NV-AA': 2.8972385694884497e-07, 'Fog:NV-NL': 1.4486192847442249e-07, 'Fog:NV-NV': 1.4486192847442249e-07, 'Fog:NV-NH': 0.0, 'Fog:NH-MV': 0.0, 'Fog:NH-CL': 0.0, 'Fog:NH-SP': 0.0, 'Fog:NH-GR': 0.0, 'Fog:NH-CS': 0.0, 'Fog:NH-LH': 0.0, 'Fog:NH-LN': 0.0, 'Fog:NH-EO': 0.0, 'Fog:NH-FA': 0.0, 'Fog:NH-VB': 0.0, 'Fog:NH-DR': 0.0, 'Fog:NH-SV': 0.0, 'Fog:NH-KM': 0.0, 'Fog:NH-PG': 0.0, 'Fog:NH-LS': 0.0, 'Fog:NH-MS': 0.0, 'Fog:NH-YT': 0.0, 'Fog:NH-GZ': 0.0, 'Fog:NH-AA': 0.0, 'Fog:NH-NL': 0.0, 'Fog:NH-NV': 0.0, 'Fog:NH-NH': 0.0}\n"
     ]
    }
   ],
   "source": [
    "# defining joint dist of joint_PD and weather \n",
    "\n",
    "joint_PDW = joint(W, joint_PD, ':') # joint_probDistWeather\n",
    "print(joint_PDW)"
   ]
  },
  {
   "cell_type": "markdown",
   "id": "6b351444",
   "metadata": {},
   "source": [
    "A function can be defined for Ferrari winning one of these two races on a rainy day:"
   ]
  },
  {
   "cell_type": "code",
   "execution_count": 21,
   "id": "fdca5b36",
   "metadata": {},
   "outputs": [
    {
     "name": "stdout",
     "output_type": "stream",
     "text": [
      "True\n",
      "False\n",
      "False\n"
     ]
    }
   ],
   "source": [
    "def ferrari_rainy_win(outcome): return (('Rain' in outcome) and ('CL' in outcome or 'CS' in outcome))\n",
    "print(ferrari_rainy_win('Rain:CL-LH')) # true\n",
    "print(ferrari_rainy_win('Rain:MV-LH')) # false\n",
    "print(ferrari_rainy_win('Sun:CS-CS')) # false"
   ]
  },
  {
   "cell_type": "markdown",
   "id": "e6da4acb",
   "metadata": {},
   "source": [
    ">**What is the probability Ferrari wins both races, assuming races can be held on either rainy, sunny, cloudy, snowy or foggy days?** \n",
    "Assume that rain, sun, clouds, snow, and fog are the only possible weather conditions on race tracks and there is an equal probability for each one of these weather events."
   ]
  },
  {
   "cell_type": "code",
   "execution_count": 22,
   "id": "ef192c57",
   "metadata": {
    "scrolled": true
   },
   "outputs": [
    {
     "name": "stdout",
     "output_type": "stream",
     "text": [
      "False\n",
      "True\n"
     ]
    }
   ],
   "source": [
    "def ferrari_wins(x): return (ferrari_wins_both(x.split(\":\")[1]))\n",
    "print(ferrari_wins('Rain:GR-CS')) # false\n",
    "print(ferrari_wins('Fog:CL-CS')) # true"
   ]
  },
  {
   "cell_type": "code",
   "execution_count": 23,
   "id": "d716b7d0",
   "metadata": {
    "scrolled": true
   },
   "outputs": [
    {
     "name": "stdout",
     "output_type": "stream",
     "text": [
      "the probability Ferrari wins both races, assuming races can be held on either days 0.13362276893391223\n"
     ]
    }
   ],
   "source": [
    "print(\"the probability Ferrari wins both races, assuming races can be held on either days\", p(ferrari_wins, ferrari_rainy_win, joint_PDW))"
   ]
  }
 ],
 "metadata": {
  "kernelspec": {
   "display_name": "Python 3 (ipykernel)",
   "language": "python",
   "name": "python3"
  },
  "language_info": {
   "codemirror_mode": {
    "name": "ipython",
    "version": 3
   },
   "file_extension": ".py",
   "mimetype": "text/x-python",
   "name": "python",
   "nbconvert_exporter": "python",
   "pygments_lexer": "ipython3",
   "version": "3.10.9"
  }
 },
 "nbformat": 4,
 "nbformat_minor": 5
}
